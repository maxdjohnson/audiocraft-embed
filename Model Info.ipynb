{
 "cells": [
  {
   "cell_type": "code",
   "execution_count": 1,
   "id": "c4274503-6873-4722-921c-5d8042d070f1",
   "metadata": {
    "tags": []
   },
   "outputs": [
    {
     "name": "stderr",
     "output_type": "stream",
     "text": [
      "objc[85720]: Class AVFFrameReceiver is implemented in both /Users/maxj/miniconda3/envs/audiocraft/lib/libavdevice.58.8.100.dylib (0x114e54798) and /Users/maxj/miniconda3/envs/audiocraft/lib/python3.9/site-packages/av/.dylibs/libavdevice.59.7.100.dylib (0x1349d8778). One of the two will be used. Which one is undefined.\n",
      "objc[85720]: Class AVFAudioReceiver is implemented in both /Users/maxj/miniconda3/envs/audiocraft/lib/libavdevice.58.8.100.dylib (0x114e547e8) and /Users/maxj/miniconda3/envs/audiocraft/lib/python3.9/site-packages/av/.dylibs/libavdevice.59.7.100.dylib (0x1349d87c8). One of the two will be used. Which one is undefined.\n"
     ]
    }
   ],
   "source": [
    "import pickle\n",
    "import torch\n",
    "import torchaudio\n",
    "import time\n",
    "from audiocraft.models import MusicGen\n",
    "from audiocraft.data.audio import audio_write\n",
    "from audiocraft.data.audio_utils import convert_audio\n",
    "from audiocraft.modules.conditioners import ConditioningAttributes"
   ]
  },
  {
   "cell_type": "code",
   "execution_count": 2,
   "id": "c3b3cd88-c510-4587-aec9-557db18cac8a",
   "metadata": {
    "tags": []
   },
   "outputs": [
    {
     "name": "stderr",
     "output_type": "stream",
     "text": [
      "/Users/maxj/miniconda3/envs/audiocraft/lib/python3.9/site-packages/torch/nn/utils/weight_norm.py:30: UserWarning: torch.nn.utils.weight_norm is deprecated in favor of torch.nn.utils.parametrizations.weight_norm.\n",
      "  warnings.warn(\"torch.nn.utils.weight_norm is deprecated in favor of torch.nn.utils.parametrizations.weight_norm.\")\n"
     ]
    }
   ],
   "source": [
    "model = MusicGen.get_pretrained('facebook/musicgen-medium')"
   ]
  },
  {
   "cell_type": "code",
   "execution_count": 3,
   "id": "4099fde5-f4c1-4cb2-922f-2ea5885ecadb",
   "metadata": {
    "tags": []
   },
   "outputs": [
    {
     "data": {
      "text/plain": [
       "LMModel(\n",
       "  (cfg_dropout): ClassifierFreeGuidanceDropout(p=0.3)\n",
       "  (att_dropout): AttributeDropout({})\n",
       "  (condition_provider): ConditioningProvider(\n",
       "    (conditioners): ModuleDict(\n",
       "      (description): T5Conditioner(\n",
       "        (output_proj): Linear(in_features=768, out_features=1536, bias=True)\n",
       "      )\n",
       "    )\n",
       "  )\n",
       "  (fuser): ConditionFuser()\n",
       "  (emb): ModuleList(\n",
       "    (0-3): 4 x ScaledEmbedding(2049, 1536)\n",
       "  )\n",
       "  (transformer): StreamingTransformer(\n",
       "    (layers): ModuleList(\n",
       "      (0-47): 48 x StreamingTransformerLayer(\n",
       "        (self_attn): StreamingMultiheadAttention(\n",
       "          (out_proj): Linear(in_features=1536, out_features=1536, bias=False)\n",
       "        )\n",
       "        (linear1): Linear(in_features=1536, out_features=6144, bias=False)\n",
       "        (dropout): Dropout(p=0.0, inplace=False)\n",
       "        (linear2): Linear(in_features=6144, out_features=1536, bias=False)\n",
       "        (norm1): LayerNorm((1536,), eps=1e-05, elementwise_affine=True)\n",
       "        (norm2): LayerNorm((1536,), eps=1e-05, elementwise_affine=True)\n",
       "        (dropout1): Dropout(p=0.0, inplace=False)\n",
       "        (dropout2): Dropout(p=0.0, inplace=False)\n",
       "        (layer_scale_1): Identity()\n",
       "        (layer_scale_2): Identity()\n",
       "        (cross_attention): StreamingMultiheadAttention(\n",
       "          (out_proj): Linear(in_features=1536, out_features=1536, bias=False)\n",
       "        )\n",
       "        (dropout_cross): Dropout(p=0.0, inplace=False)\n",
       "        (norm_cross): LayerNorm((1536,), eps=1e-05, elementwise_affine=True)\n",
       "        (layer_scale_cross): Identity()\n",
       "      )\n",
       "    )\n",
       "  )\n",
       "  (out_norm): LayerNorm((1536,), eps=1e-05, elementwise_affine=True)\n",
       "  (linears): ModuleList(\n",
       "    (0-3): 4 x Linear(in_features=1536, out_features=2048, bias=False)\n",
       "  )\n",
       ")"
      ]
     },
     "execution_count": 3,
     "metadata": {},
     "output_type": "execute_result"
    }
   ],
   "source": [
    "model.lm"
   ]
  },
  {
   "cell_type": "code",
   "execution_count": 4,
   "id": "b76eaebe-42e2-4045-b867-3a861a5294de",
   "metadata": {
    "tags": []
   },
   "outputs": [
    {
     "data": {
      "text/plain": [
       "EncodecModel(\n",
       "  (encoder): SEANetEncoder(\n",
       "    (model): Sequential(\n",
       "      (0): StreamableConv1d(\n",
       "        (conv): NormConv1d(\n",
       "          (conv): Conv1d(1, 64, kernel_size=(7,), stride=(1,))\n",
       "          (norm): Identity()\n",
       "        )\n",
       "      )\n",
       "      (1): SEANetResnetBlock(\n",
       "        (block): Sequential(\n",
       "          (0): ELU(alpha=1.0)\n",
       "          (1): StreamableConv1d(\n",
       "            (conv): NormConv1d(\n",
       "              (conv): Conv1d(64, 32, kernel_size=(3,), stride=(1,))\n",
       "              (norm): Identity()\n",
       "            )\n",
       "          )\n",
       "          (2): ELU(alpha=1.0)\n",
       "          (3): StreamableConv1d(\n",
       "            (conv): NormConv1d(\n",
       "              (conv): Conv1d(32, 64, kernel_size=(1,), stride=(1,))\n",
       "              (norm): Identity()\n",
       "            )\n",
       "          )\n",
       "        )\n",
       "        (shortcut): Identity()\n",
       "      )\n",
       "      (2): ELU(alpha=1.0)\n",
       "      (3): StreamableConv1d(\n",
       "        (conv): NormConv1d(\n",
       "          (conv): Conv1d(64, 128, kernel_size=(8,), stride=(4,))\n",
       "          (norm): Identity()\n",
       "        )\n",
       "      )\n",
       "      (4): SEANetResnetBlock(\n",
       "        (block): Sequential(\n",
       "          (0): ELU(alpha=1.0)\n",
       "          (1): StreamableConv1d(\n",
       "            (conv): NormConv1d(\n",
       "              (conv): Conv1d(128, 64, kernel_size=(3,), stride=(1,))\n",
       "              (norm): Identity()\n",
       "            )\n",
       "          )\n",
       "          (2): ELU(alpha=1.0)\n",
       "          (3): StreamableConv1d(\n",
       "            (conv): NormConv1d(\n",
       "              (conv): Conv1d(64, 128, kernel_size=(1,), stride=(1,))\n",
       "              (norm): Identity()\n",
       "            )\n",
       "          )\n",
       "        )\n",
       "        (shortcut): Identity()\n",
       "      )\n",
       "      (5): ELU(alpha=1.0)\n",
       "      (6): StreamableConv1d(\n",
       "        (conv): NormConv1d(\n",
       "          (conv): Conv1d(128, 256, kernel_size=(8,), stride=(4,))\n",
       "          (norm): Identity()\n",
       "        )\n",
       "      )\n",
       "      (7): SEANetResnetBlock(\n",
       "        (block): Sequential(\n",
       "          (0): ELU(alpha=1.0)\n",
       "          (1): StreamableConv1d(\n",
       "            (conv): NormConv1d(\n",
       "              (conv): Conv1d(256, 128, kernel_size=(3,), stride=(1,))\n",
       "              (norm): Identity()\n",
       "            )\n",
       "          )\n",
       "          (2): ELU(alpha=1.0)\n",
       "          (3): StreamableConv1d(\n",
       "            (conv): NormConv1d(\n",
       "              (conv): Conv1d(128, 256, kernel_size=(1,), stride=(1,))\n",
       "              (norm): Identity()\n",
       "            )\n",
       "          )\n",
       "        )\n",
       "        (shortcut): Identity()\n",
       "      )\n",
       "      (8): ELU(alpha=1.0)\n",
       "      (9): StreamableConv1d(\n",
       "        (conv): NormConv1d(\n",
       "          (conv): Conv1d(256, 512, kernel_size=(10,), stride=(5,))\n",
       "          (norm): Identity()\n",
       "        )\n",
       "      )\n",
       "      (10): SEANetResnetBlock(\n",
       "        (block): Sequential(\n",
       "          (0): ELU(alpha=1.0)\n",
       "          (1): StreamableConv1d(\n",
       "            (conv): NormConv1d(\n",
       "              (conv): Conv1d(512, 256, kernel_size=(3,), stride=(1,))\n",
       "              (norm): Identity()\n",
       "            )\n",
       "          )\n",
       "          (2): ELU(alpha=1.0)\n",
       "          (3): StreamableConv1d(\n",
       "            (conv): NormConv1d(\n",
       "              (conv): Conv1d(256, 512, kernel_size=(1,), stride=(1,))\n",
       "              (norm): Identity()\n",
       "            )\n",
       "          )\n",
       "        )\n",
       "        (shortcut): Identity()\n",
       "      )\n",
       "      (11): ELU(alpha=1.0)\n",
       "      (12): StreamableConv1d(\n",
       "        (conv): NormConv1d(\n",
       "          (conv): Conv1d(512, 1024, kernel_size=(16,), stride=(8,))\n",
       "          (norm): Identity()\n",
       "        )\n",
       "      )\n",
       "      (13): StreamableLSTM(\n",
       "        (lstm): LSTM(1024, 1024, num_layers=2)\n",
       "      )\n",
       "      (14): ELU(alpha=1.0)\n",
       "      (15): StreamableConv1d(\n",
       "        (conv): NormConv1d(\n",
       "          (conv): Conv1d(1024, 128, kernel_size=(7,), stride=(1,))\n",
       "          (norm): Identity()\n",
       "        )\n",
       "      )\n",
       "    )\n",
       "  )\n",
       "  (decoder): SEANetDecoder(\n",
       "    (model): Sequential(\n",
       "      (0): StreamableConv1d(\n",
       "        (conv): NormConv1d(\n",
       "          (conv): Conv1d(128, 1024, kernel_size=(7,), stride=(1,))\n",
       "          (norm): Identity()\n",
       "        )\n",
       "      )\n",
       "      (1): StreamableLSTM(\n",
       "        (lstm): LSTM(1024, 1024, num_layers=2)\n",
       "      )\n",
       "      (2): ELU(alpha=1.0)\n",
       "      (3): StreamableConvTranspose1d(\n",
       "        (convtr): NormConvTranspose1d(\n",
       "          (convtr): ConvTranspose1d(1024, 512, kernel_size=(16,), stride=(8,))\n",
       "          (norm): Identity()\n",
       "        )\n",
       "      )\n",
       "      (4): SEANetResnetBlock(\n",
       "        (block): Sequential(\n",
       "          (0): ELU(alpha=1.0)\n",
       "          (1): StreamableConv1d(\n",
       "            (conv): NormConv1d(\n",
       "              (conv): Conv1d(512, 256, kernel_size=(3,), stride=(1,))\n",
       "              (norm): Identity()\n",
       "            )\n",
       "          )\n",
       "          (2): ELU(alpha=1.0)\n",
       "          (3): StreamableConv1d(\n",
       "            (conv): NormConv1d(\n",
       "              (conv): Conv1d(256, 512, kernel_size=(1,), stride=(1,))\n",
       "              (norm): Identity()\n",
       "            )\n",
       "          )\n",
       "        )\n",
       "        (shortcut): Identity()\n",
       "      )\n",
       "      (5): ELU(alpha=1.0)\n",
       "      (6): StreamableConvTranspose1d(\n",
       "        (convtr): NormConvTranspose1d(\n",
       "          (convtr): ConvTranspose1d(512, 256, kernel_size=(10,), stride=(5,))\n",
       "          (norm): Identity()\n",
       "        )\n",
       "      )\n",
       "      (7): SEANetResnetBlock(\n",
       "        (block): Sequential(\n",
       "          (0): ELU(alpha=1.0)\n",
       "          (1): StreamableConv1d(\n",
       "            (conv): NormConv1d(\n",
       "              (conv): Conv1d(256, 128, kernel_size=(3,), stride=(1,))\n",
       "              (norm): Identity()\n",
       "            )\n",
       "          )\n",
       "          (2): ELU(alpha=1.0)\n",
       "          (3): StreamableConv1d(\n",
       "            (conv): NormConv1d(\n",
       "              (conv): Conv1d(128, 256, kernel_size=(1,), stride=(1,))\n",
       "              (norm): Identity()\n",
       "            )\n",
       "          )\n",
       "        )\n",
       "        (shortcut): Identity()\n",
       "      )\n",
       "      (8): ELU(alpha=1.0)\n",
       "      (9): StreamableConvTranspose1d(\n",
       "        (convtr): NormConvTranspose1d(\n",
       "          (convtr): ConvTranspose1d(256, 128, kernel_size=(8,), stride=(4,))\n",
       "          (norm): Identity()\n",
       "        )\n",
       "      )\n",
       "      (10): SEANetResnetBlock(\n",
       "        (block): Sequential(\n",
       "          (0): ELU(alpha=1.0)\n",
       "          (1): StreamableConv1d(\n",
       "            (conv): NormConv1d(\n",
       "              (conv): Conv1d(128, 64, kernel_size=(3,), stride=(1,))\n",
       "              (norm): Identity()\n",
       "            )\n",
       "          )\n",
       "          (2): ELU(alpha=1.0)\n",
       "          (3): StreamableConv1d(\n",
       "            (conv): NormConv1d(\n",
       "              (conv): Conv1d(64, 128, kernel_size=(1,), stride=(1,))\n",
       "              (norm): Identity()\n",
       "            )\n",
       "          )\n",
       "        )\n",
       "        (shortcut): Identity()\n",
       "      )\n",
       "      (11): ELU(alpha=1.0)\n",
       "      (12): StreamableConvTranspose1d(\n",
       "        (convtr): NormConvTranspose1d(\n",
       "          (convtr): ConvTranspose1d(128, 64, kernel_size=(8,), stride=(4,))\n",
       "          (norm): Identity()\n",
       "        )\n",
       "      )\n",
       "      (13): SEANetResnetBlock(\n",
       "        (block): Sequential(\n",
       "          (0): ELU(alpha=1.0)\n",
       "          (1): StreamableConv1d(\n",
       "            (conv): NormConv1d(\n",
       "              (conv): Conv1d(64, 32, kernel_size=(3,), stride=(1,))\n",
       "              (norm): Identity()\n",
       "            )\n",
       "          )\n",
       "          (2): ELU(alpha=1.0)\n",
       "          (3): StreamableConv1d(\n",
       "            (conv): NormConv1d(\n",
       "              (conv): Conv1d(32, 64, kernel_size=(1,), stride=(1,))\n",
       "              (norm): Identity()\n",
       "            )\n",
       "          )\n",
       "        )\n",
       "        (shortcut): Identity()\n",
       "      )\n",
       "      (14): ELU(alpha=1.0)\n",
       "      (15): StreamableConv1d(\n",
       "        (conv): NormConv1d(\n",
       "          (conv): Conv1d(64, 1, kernel_size=(7,), stride=(1,))\n",
       "          (norm): Identity()\n",
       "        )\n",
       "      )\n",
       "    )\n",
       "  )\n",
       "  (quantizer): ResidualVectorQuantizer(\n",
       "    (vq): ResidualVectorQuantization(\n",
       "      (layers): ModuleList(\n",
       "        (0-3): 4 x VectorQuantization(\n",
       "          (project_in): Identity()\n",
       "          (project_out): Identity()\n",
       "          (_codebook): EuclideanCodebook()\n",
       "        )\n",
       "      )\n",
       "    )\n",
       "  )\n",
       ")"
      ]
     },
     "execution_count": 4,
     "metadata": {},
     "output_type": "execute_result"
    }
   ],
   "source": [
    "model.compression_model"
   ]
  },
  {
   "cell_type": "code",
   "execution_count": 7,
   "id": "ab8398a2-ed73-4683-b2c1-857d511b9ecc",
   "metadata": {
    "tags": []
   },
   "outputs": [],
   "source": [
    "def compute_file_embedding(filename):\n",
    "    return _embed_codes(filename, _load_input(filename))\n",
    "\n",
    "def _load_input(filename):\n",
    "    t1 = time.perf_counter()\n",
    "    wav, sr = torchaudio.load(filename)\n",
    "    duration = wav.shape[1] / sr\n",
    "    if duration > 25 * 60:\n",
    "        raise ValueError(f\"track is too long: {duration}s\")\n",
    "    wav = convert_audio(wav, sr, model.sample_rate, model.audio_channels)\n",
    "    wav = wav.unsqueeze(0)\n",
    "    t2 = time.perf_counter()\n",
    "    print(filename, \"load\", t2 - t1)\n",
    "    with torch.no_grad():\n",
    "        encoded, _ = model.compression_model.encode(wav)\n",
    "    t3 = time.perf_counter()\n",
    "    print(filename, \"encode\", t3-t2)\n",
    "    return encoded\n",
    "    \n",
    "def _embed_codes(filename, encoded):\n",
    "    t1 = time.perf_counter()\n",
    "    context_limit = model.max_duration * model.frame_rate - 1\n",
    "    emb = model.lm.compute_sequence_embedding(encoded[0], context_limit)\n",
    "    t2 = time.perf_counter()\n",
    "    print(filename, \"embed\", t2-t1)\n",
    "    return emb"
   ]
  },
  {
   "cell_type": "code",
   "execution_count": 8,
   "id": "636fe7f6-72e2-426a-bb87-50894fb5de08",
   "metadata": {
    "tags": []
   },
   "outputs": [
    {
     "name": "stdout",
     "output_type": "stream",
     "text": [
      "/Users/maxj/Music/Rips/Spotify/AIFF/2fox - We Are - 6Lxi9O5CWRgjrqvWdbn2lT.aiff load 0.2576355419999956\n",
      "/Users/maxj/Music/Rips/Spotify/AIFF/2fox - We Are - 6Lxi9O5CWRgjrqvWdbn2lT.aiff encode 22.501715417000007\n"
     ]
    }
   ],
   "source": [
    "toks = _load_input(\"/Users/maxj/Music/Rips/Spotify/AIFF/2fox - We Are - 6Lxi9O5CWRgjrqvWdbn2lT.aiff\")"
   ]
  },
  {
   "cell_type": "code",
   "execution_count": 9,
   "id": "aabe5b6a-c12b-4c6c-bf19-a44b3b163037",
   "metadata": {
    "tags": []
   },
   "outputs": [
    {
     "data": {
      "text/plain": [
       "tensor([[[1077, 1273, 1607,  ...,   83,   83,   83],\n",
       "         [ 845, 1642,   21,  ..., 2044, 2044, 2044],\n",
       "         [1872,  373,  650,  ..., 2019, 2019, 2019],\n",
       "         [1518, 1696, 1284,  ..., 1770, 1770, 1770]]])"
      ]
     },
     "execution_count": 9,
     "metadata": {},
     "output_type": "execute_result"
    }
   ],
   "source": [
    "toks"
   ]
  },
  {
   "cell_type": "code",
   "execution_count": 83,
   "id": "46fcfd18-28e7-45dd-9fb0-1c9509a410a9",
   "metadata": {
    "tags": []
   },
   "outputs": [
    {
     "data": {
      "text/plain": [
       "tensor(2047)"
      ]
     },
     "execution_count": 83,
     "metadata": {},
     "output_type": "execute_result"
    }
   ],
   "source": [
    "toks.max()"
   ]
  },
  {
   "cell_type": "code",
   "execution_count": 9,
   "id": "fd14a6fd-e609-40a0-bc2a-c8de618c5798",
   "metadata": {},
   "outputs": [],
   "source": [
    "def _load_wav(filename):\n",
    "    t1 = time.perf_counter()\n",
    "    wav, sr = torchaudio.load(filename)\n",
    "    duration = wav.shape[1] / sr\n",
    "    if duration > 25 * 60:\n",
    "        raise ValueError(f\"track is too long: {duration}s\")\n",
    "    wav = convert_audio(wav, sr, model.sample_rate, model.audio_channels)\n",
    "    wav = wav.unsqueeze(0)\n",
    "    t2 = time.perf_counter()\n",
    "    print(filename, \"load\", t2 - t1)\n",
    "    return wav\n",
    "\n",
    "def _encode(filename, wav):\n",
    "    t2 = time.perf_counter()\n",
    "    with torch.no_grad():\n",
    "        encoded, _ = model.compression_model.encode(wav)\n",
    "    t3 = time.perf_counter()\n",
    "    print(filename, \"encode\", t3-t2)\n",
    "    return encoded"
   ]
  },
  {
   "cell_type": "code",
   "execution_count": 10,
   "id": "16cf99df-418f-4b62-bf0b-494af4f3e8ef",
   "metadata": {
    "tags": []
   },
   "outputs": [
    {
     "data": {
      "text/plain": [
       "32000"
      ]
     },
     "execution_count": 10,
     "metadata": {},
     "output_type": "execute_result"
    }
   ],
   "source": [
    "model.sample_rate"
   ]
  },
  {
   "cell_type": "code",
   "execution_count": 11,
   "id": "be7617d0-0914-4f28-bc06-3b0e3ba51294",
   "metadata": {
    "tags": []
   },
   "outputs": [
    {
     "name": "stdout",
     "output_type": "stream",
     "text": [
      "/Users/maxj/Music/Rips/Spotify/AIFF/2fox - We Are - 6Lxi9O5CWRgjrqvWdbn2lT.aiff load 0.19886325000000227\n"
     ]
    }
   ],
   "source": [
    "filename = \"/Users/maxj/Music/Rips/Spotify/AIFF/2fox - We Are - 6Lxi9O5CWRgjrqvWdbn2lT.aiff\"\n",
    "wav = _load_wav(filename)"
   ]
  },
  {
   "cell_type": "code",
   "execution_count": 12,
   "id": "5f07f751-643e-44e4-9ff1-66cc4ff441bf",
   "metadata": {
    "tags": []
   },
   "outputs": [
    {
     "data": {
      "text/plain": [
       "torch.Size([1, 1, 8176000])"
      ]
     },
     "execution_count": 12,
     "metadata": {},
     "output_type": "execute_result"
    }
   ],
   "source": [
    "wav.shape"
   ]
  },
  {
   "cell_type": "code",
   "execution_count": 13,
   "id": "bc490f2c-0338-4472-8db2-4018854d29f0",
   "metadata": {
    "tags": []
   },
   "outputs": [
    {
     "data": {
      "text/plain": [
       "SEANetEncoder(\n",
       "  (model): Sequential(\n",
       "    (0): StreamableConv1d(\n",
       "      (conv): NormConv1d(\n",
       "        (conv): Conv1d(1, 64, kernel_size=(7,), stride=(1,))\n",
       "        (norm): Identity()\n",
       "      )\n",
       "    )\n",
       "    (1): SEANetResnetBlock(\n",
       "      (block): Sequential(\n",
       "        (0): ELU(alpha=1.0)\n",
       "        (1): StreamableConv1d(\n",
       "          (conv): NormConv1d(\n",
       "            (conv): Conv1d(64, 32, kernel_size=(3,), stride=(1,))\n",
       "            (norm): Identity()\n",
       "          )\n",
       "        )\n",
       "        (2): ELU(alpha=1.0)\n",
       "        (3): StreamableConv1d(\n",
       "          (conv): NormConv1d(\n",
       "            (conv): Conv1d(32, 64, kernel_size=(1,), stride=(1,))\n",
       "            (norm): Identity()\n",
       "          )\n",
       "        )\n",
       "      )\n",
       "      (shortcut): Identity()\n",
       "    )\n",
       "    (2): ELU(alpha=1.0)\n",
       "    (3): StreamableConv1d(\n",
       "      (conv): NormConv1d(\n",
       "        (conv): Conv1d(64, 128, kernel_size=(8,), stride=(4,))\n",
       "        (norm): Identity()\n",
       "      )\n",
       "    )\n",
       "    (4): SEANetResnetBlock(\n",
       "      (block): Sequential(\n",
       "        (0): ELU(alpha=1.0)\n",
       "        (1): StreamableConv1d(\n",
       "          (conv): NormConv1d(\n",
       "            (conv): Conv1d(128, 64, kernel_size=(3,), stride=(1,))\n",
       "            (norm): Identity()\n",
       "          )\n",
       "        )\n",
       "        (2): ELU(alpha=1.0)\n",
       "        (3): StreamableConv1d(\n",
       "          (conv): NormConv1d(\n",
       "            (conv): Conv1d(64, 128, kernel_size=(1,), stride=(1,))\n",
       "            (norm): Identity()\n",
       "          )\n",
       "        )\n",
       "      )\n",
       "      (shortcut): Identity()\n",
       "    )\n",
       "    (5): ELU(alpha=1.0)\n",
       "    (6): StreamableConv1d(\n",
       "      (conv): NormConv1d(\n",
       "        (conv): Conv1d(128, 256, kernel_size=(8,), stride=(4,))\n",
       "        (norm): Identity()\n",
       "      )\n",
       "    )\n",
       "    (7): SEANetResnetBlock(\n",
       "      (block): Sequential(\n",
       "        (0): ELU(alpha=1.0)\n",
       "        (1): StreamableConv1d(\n",
       "          (conv): NormConv1d(\n",
       "            (conv): Conv1d(256, 128, kernel_size=(3,), stride=(1,))\n",
       "            (norm): Identity()\n",
       "          )\n",
       "        )\n",
       "        (2): ELU(alpha=1.0)\n",
       "        (3): StreamableConv1d(\n",
       "          (conv): NormConv1d(\n",
       "            (conv): Conv1d(128, 256, kernel_size=(1,), stride=(1,))\n",
       "            (norm): Identity()\n",
       "          )\n",
       "        )\n",
       "      )\n",
       "      (shortcut): Identity()\n",
       "    )\n",
       "    (8): ELU(alpha=1.0)\n",
       "    (9): StreamableConv1d(\n",
       "      (conv): NormConv1d(\n",
       "        (conv): Conv1d(256, 512, kernel_size=(10,), stride=(5,))\n",
       "        (norm): Identity()\n",
       "      )\n",
       "    )\n",
       "    (10): SEANetResnetBlock(\n",
       "      (block): Sequential(\n",
       "        (0): ELU(alpha=1.0)\n",
       "        (1): StreamableConv1d(\n",
       "          (conv): NormConv1d(\n",
       "            (conv): Conv1d(512, 256, kernel_size=(3,), stride=(1,))\n",
       "            (norm): Identity()\n",
       "          )\n",
       "        )\n",
       "        (2): ELU(alpha=1.0)\n",
       "        (3): StreamableConv1d(\n",
       "          (conv): NormConv1d(\n",
       "            (conv): Conv1d(256, 512, kernel_size=(1,), stride=(1,))\n",
       "            (norm): Identity()\n",
       "          )\n",
       "        )\n",
       "      )\n",
       "      (shortcut): Identity()\n",
       "    )\n",
       "    (11): ELU(alpha=1.0)\n",
       "    (12): StreamableConv1d(\n",
       "      (conv): NormConv1d(\n",
       "        (conv): Conv1d(512, 1024, kernel_size=(16,), stride=(8,))\n",
       "        (norm): Identity()\n",
       "      )\n",
       "    )\n",
       "    (13): StreamableLSTM(\n",
       "      (lstm): LSTM(1024, 1024, num_layers=2)\n",
       "    )\n",
       "    (14): ELU(alpha=1.0)\n",
       "    (15): StreamableConv1d(\n",
       "      (conv): NormConv1d(\n",
       "        (conv): Conv1d(1024, 128, kernel_size=(7,), stride=(1,))\n",
       "        (norm): Identity()\n",
       "      )\n",
       "    )\n",
       "  )\n",
       ")"
      ]
     },
     "execution_count": 13,
     "metadata": {},
     "output_type": "execute_result"
    }
   ],
   "source": [
    "model.compression_model.encoder"
   ]
  },
  {
   "cell_type": "code",
   "execution_count": 14,
   "id": "ef1fd40c-8755-40ad-8732-72aac1bff862",
   "metadata": {
    "tags": []
   },
   "outputs": [
    {
     "data": {
      "text/plain": [
       "32000"
      ]
     },
     "execution_count": 14,
     "metadata": {},
     "output_type": "execute_result"
    }
   ],
   "source": [
    "model.compression_model.sample_rate"
   ]
  },
  {
   "cell_type": "code",
   "execution_count": 15,
   "id": "14c5964e-1bf3-44b6-94de-cd65cf4399fd",
   "metadata": {
    "tags": []
   },
   "outputs": [
    {
     "data": {
      "text/plain": [
       "Identity()"
      ]
     },
     "execution_count": 15,
     "metadata": {},
     "output_type": "execute_result"
    }
   ],
   "source": [
    "model.compression_model.encoder.model[1].shortcut\n",
    "# if this is Identity then apparently it's streamable..."
   ]
  },
  {
   "cell_type": "code",
   "execution_count": 56,
   "id": "46688d29-3482-4908-893a-c5551ee6ae08",
   "metadata": {
    "tags": []
   },
   "outputs": [],
   "source": [
    "def _enc(wav):\n",
    "    t2 = time.perf_counter()\n",
    "    with torch.no_grad():\n",
    "        encoded = model.compression_model.encoder(wav)\n",
    "    t3 = time.perf_counter()\n",
    "    print(\"encode\", t3-t2)\n",
    "    return encoded\n",
    "\n",
    "def _quant(encoded):\n",
    "    t2 = time.perf_counter()\n",
    "    with torch.no_grad():\n",
    "        codes = model.compression_model.quantizer.encode(encoded)\n",
    "    t3 = time.perf_counter()\n",
    "    print(\"quantize\", t3-t2)\n",
    "    return codes\n",
    "\n",
    "def _quantenc(wav):\n",
    "    return _quant(_enc(wav))"
   ]
  },
  {
   "cell_type": "code",
   "execution_count": 17,
   "id": "03087aab-ed97-4931-a186-d8a093d59dbf",
   "metadata": {
    "tags": []
   },
   "outputs": [
    {
     "name": "stdout",
     "output_type": "stream",
     "text": [
      "encode 15.903300832999996\n"
     ]
    }
   ],
   "source": [
    "emb = _enc(wav)"
   ]
  },
  {
   "cell_type": "code",
   "execution_count": 18,
   "id": "9fc90a72-b56b-4e0a-934c-ef4516b9f6be",
   "metadata": {
    "tags": []
   },
   "outputs": [
    {
     "data": {
      "text/plain": [
       "(torch.Size([1, 128, 12775]), torch.float32)"
      ]
     },
     "execution_count": 18,
     "metadata": {},
     "output_type": "execute_result"
    }
   ],
   "source": [
    "emb.shape, emb.dtype"
   ]
  },
  {
   "cell_type": "code",
   "execution_count": 19,
   "id": "d2865d2a-f462-417f-965d-2c313b8fc101",
   "metadata": {
    "tags": []
   },
   "outputs": [
    {
     "name": "stdout",
     "output_type": "stream",
     "text": [
      "quantize 0.11134899999999703\n"
     ]
    }
   ],
   "source": [
    "codes = _quant(emb)"
   ]
  },
  {
   "cell_type": "code",
   "execution_count": 20,
   "id": "49f3f585-c6c9-4ee9-8df5-96190f4498f4",
   "metadata": {
    "tags": []
   },
   "outputs": [
    {
     "data": {
      "text/plain": [
       "(torch.Size([1, 4, 12775]), torch.int64)"
      ]
     },
     "execution_count": 20,
     "metadata": {},
     "output_type": "execute_result"
    }
   ],
   "source": [
    "codes.shape, codes.dtype"
   ]
  },
  {
   "cell_type": "code",
   "execution_count": 21,
   "id": "c4c669a9-e57f-4004-b531-9605c0495947",
   "metadata": {
    "tags": []
   },
   "outputs": [
    {
     "data": {
      "text/plain": [
       "'reflect'"
      ]
     },
     "execution_count": 21,
     "metadata": {},
     "output_type": "execute_result"
    }
   ],
   "source": [
    "model.compression_model.encoder.model[0].pad_mode"
   ]
  },
  {
   "cell_type": "code",
   "execution_count": 22,
   "id": "23e6f5cb-9e1f-4e8f-9eb2-4315e6286332",
   "metadata": {
    "tags": []
   },
   "outputs": [
    {
     "data": {
      "text/plain": [
       "(False, False)"
      ]
     },
     "execution_count": 22,
     "metadata": {},
     "output_type": "execute_result"
    }
   ],
   "source": [
    "model.compression_model.causal, model.compression_model.renormalize"
   ]
  },
  {
   "cell_type": "code",
   "execution_count": 26,
   "id": "e0144f7b-49fc-41a7-987d-7d611f1813f0",
   "metadata": {
    "tags": []
   },
   "outputs": [
    {
     "data": {
      "text/plain": [
       "{'channels': 1,\n",
       " 'dimension': 128,\n",
       " 'n_filters': 64,\n",
       " 'ratios': [4, 4, 5, 8],\n",
       " 'n_residual_layers': 1,\n",
       " 'hop_length': 640,\n",
       " 'n_blocks': 6,\n",
       " 'disable_norm_outer_blocks': 0}"
      ]
     },
     "execution_count": 26,
     "metadata": {},
     "output_type": "execute_result"
    }
   ],
   "source": [
    "enc_m = model.compression_model.encoder\n",
    "dict(\n",
    "  channels=enc_m.channels,\n",
    "  dimension=enc_m.dimension,\n",
    "  n_filters=enc_m.n_filters,\n",
    "  ratios=enc_m.ratios,\n",
    "  n_residual_layers=enc_m.n_residual_layers,\n",
    "  hop_length=enc_m.hop_length,\n",
    "  n_blocks=enc_m.n_blocks,\n",
    "  disable_norm_outer_blocks=enc_m.disable_norm_outer_blocks,\n",
    ")"
   ]
  },
  {
   "cell_type": "code",
   "execution_count": 29,
   "id": "907e418a-2b5b-4634-9c8d-5cdb7dccad85",
   "metadata": {
    "tags": []
   },
   "outputs": [],
   "source": [
    "def get_wav_sample(n_samples):\n",
    "    # Calculate the start index for the middle 512 samples\n",
    "    middle_start = (wav.shape[-1] - n_samples) // 2\n",
    "    # Extract the middle 512 samples\n",
    "    return wav[:, :, middle_start:middle_start + n_samples]"
   ]
  },
  {
   "cell_type": "code",
   "execution_count": 34,
   "id": "1672e8d1-6995-49ef-8ece-3ce0b9e619a6",
   "metadata": {
    "tags": []
   },
   "outputs": [
    {
     "name": "stdout",
     "output_type": "stream",
     "text": [
      "encode 0.03221195900005114\n"
     ]
    },
    {
     "data": {
      "text/plain": [
       "torch.Size([1, 128, 2])"
      ]
     },
     "execution_count": 34,
     "metadata": {},
     "output_type": "execute_result"
    }
   ],
   "source": [
    "wav_sample = get_wav_sample(640*2)\n",
    "emb = _enc(wav_sample)\n",
    "emb.shape"
   ]
  },
  {
   "cell_type": "code",
   "execution_count": 43,
   "id": "b5771cab-a951-4ee6-b56c-ead64f8e78f4",
   "metadata": {},
   "outputs": [
    {
     "name": "stdout",
     "output_type": "stream",
     "text": [
      "encode 0.028904791999934787\n"
     ]
    }
   ],
   "source": [
    "emb2 = _enc(torch.cat([wav_sample[:,:,:640],wav_sample[:,:,640:]], dim=0))"
   ]
  },
  {
   "cell_type": "code",
   "execution_count": 45,
   "id": "53741ba3-411e-4094-8ac5-4c7bfcbe30ae",
   "metadata": {},
   "outputs": [
    {
     "data": {
      "text/plain": [
       "torch.Size([2, 128, 1])"
      ]
     },
     "execution_count": 45,
     "metadata": {},
     "output_type": "execute_result"
    }
   ],
   "source": [
    "emb2.shape"
   ]
  },
  {
   "cell_type": "code",
   "execution_count": 58,
   "id": "fa051a33-70b9-43af-a804-91be96347421",
   "metadata": {},
   "outputs": [
    {
     "name": "stdout",
     "output_type": "stream",
     "text": [
      "encode 0.02915387500001998\n",
      "quantize 0.0017911669999648439\n"
     ]
    }
   ],
   "source": [
    "toks1 = _quantenc(wav_sample)"
   ]
  },
  {
   "cell_type": "code",
   "execution_count": 59,
   "id": "063ec986-8708-4ac8-99a0-9b0b5c3fd6a6",
   "metadata": {},
   "outputs": [
    {
     "name": "stdout",
     "output_type": "stream",
     "text": [
      "encode 0.03327204199990774\n",
      "quantize 0.0016648750001877488\n"
     ]
    }
   ],
   "source": [
    "toks2 = _quantenc(torch.cat([wav_sample, torch.zeros((1, 1, 640))], dim=2))"
   ]
  },
  {
   "cell_type": "code",
   "execution_count": 60,
   "id": "6e2f9a67-75c9-401f-95b0-54a483d9b7e6",
   "metadata": {},
   "outputs": [
    {
     "data": {
      "text/plain": [
       "tensor([[[1407, 1847],\n",
       "         [1051,  919],\n",
       "         [1915,  674],\n",
       "         [ 656, 1018]]])"
      ]
     },
     "execution_count": 60,
     "metadata": {},
     "output_type": "execute_result"
    }
   ],
   "source": [
    "toks1"
   ]
  },
  {
   "cell_type": "code",
   "execution_count": 61,
   "id": "6657dbdf-aa6a-401f-b14b-e81dc6a321c5",
   "metadata": {},
   "outputs": [
    {
     "data": {
      "text/plain": [
       "tensor([[[1407, 1249, 1022],\n",
       "         [1631,  919,  407],\n",
       "         [ 666,  523, 1646],\n",
       "         [ 552, 1018, 1966]]])"
      ]
     },
     "execution_count": 61,
     "metadata": {},
     "output_type": "execute_result"
    }
   ],
   "source": [
    "toks2"
   ]
  },
  {
   "cell_type": "code",
   "execution_count": 64,
   "id": "7e9a04df-00df-421e-86bf-c3dd031cd2db",
   "metadata": {},
   "outputs": [],
   "source": [
    "s = get_wav_sample(640)"
   ]
  },
  {
   "cell_type": "code",
   "execution_count": 71,
   "id": "5fbf3464-6775-4dd1-8ba8-beddc8a595cb",
   "metadata": {},
   "outputs": [
    {
     "data": {
      "text/plain": [
       "'[[[0.4150869846343994, 0.4161792993545532, 0.44218045473098755, 0.4662434458732605, 0.45270007848739624, 0.44550877809524536, 0.4206930994987488, 0.35829418897628784, 0.3457542657852173, 0.3003555238246918, 0.16770529747009277, 0.07177292555570602, 0.06345430761575699, 0.009831365197896957, -0.05142027884721756, -0.02378156967461109, 0.003404872491955757, -0.019529061391949654, -0.029283417388796806, -0.0017957165837287903, -0.0022508781403303146, 0.0065666548907756805, 0.04451160132884979, 0.052294205874204636, 0.003549434244632721, -0.05355680733919144, -0.1266367882490158, -0.23277875781059265, -0.29489585757255554, -0.2980727553367615, -0.312517911195755, -0.3559313416481018, -0.365296870470047, -0.3110319674015045, -0.2468869835138321, -0.22496899962425232, -0.19663585722446442, -0.1378566473722458, -0.10455043613910675, -0.11567460000514984, -0.12251769006252289, -0.11893727630376816, -0.15665119886398315, -0.17364263534545898, -0.15536093711853027, -0.1658610999584198, -0.17133083939552307, -0.13959252834320068, -0.11696085333824158, -0.13850037753582, -0.17532849311828613, -0.23843644559383392, -0.3322967290878296, -0.4184004068374634, -0.48226040601730347, -0.5100542306900024, -0.5108353495597839, -0.5048853754997253, -0.48383307456970215, -0.42629098892211914, -0.37668025493621826, -0.358665406703949, -0.3224330544471741, -0.27573883533477783, -0.23847231268882751, -0.2062290608882904, -0.19710814952850342, -0.26050865650177, -0.32300156354904175, -0.34319907426834106, -0.3731182813644409, -0.38670647144317627, -0.33061933517456055, -0.24534659087657928, -0.2169083058834076, -0.19648690521717072, -0.18266426026821136, -0.22007952630519867, -0.2660798132419586, -0.286359965801239, -0.27195799350738525, -0.22009046375751495, -0.15018993616104126, -0.0752250924706459, -0.009823299944400787, 0.06106564402580261, 0.10605289787054062, 0.10531017184257507, 0.09912805259227753, 0.09054338932037354, 0.06653676927089691, 0.037617865949869156, 0.01788872852921486, 0.0033651404082775116, 0.023044802248477936, 0.05938684567809105, 0.08393760770559311, 0.10828246921300888, 0.13145145773887634, 0.14654532074928284, 0.17845351994037628, 0.2066987007856369, 0.20041871070861816, 0.19225874543190002, 0.18567320704460144, 0.148578941822052, 0.10002151131629944, 0.0964757576584816, 0.10287849605083466, 0.09095826745033264, 0.1018546000123024, 0.10602086037397385, 0.10192443430423737, 0.10579428821802139, 0.1168346181511879, 0.12820833921432495, 0.16567760705947876, 0.216243714094162, 0.22724752128124237, 0.2338978797197342, 0.23645645380020142, 0.21451908349990845, 0.1870838701725006, 0.162012979388237, 0.12756986916065216, 0.07961847633123398, 0.04736803472042084, 0.012318499386310577, -0.03935551643371582, -0.082797572016716, -0.11841177195310593, -0.15436185896396637, -0.1783553957939148, -0.18836632370948792, -0.22631555795669556, -0.23926757276058197, -0.2421441525220871, -0.2762007415294647, -0.303084135055542, -0.31687846779823303, -0.3351343274116516, -0.32874172925949097, -0.27926838397979736, -0.22621417045593262, -0.19494636356830597, -0.16524751484394073, -0.1649654060602188, -0.21977727115154266, -0.2836015224456787, -0.36714693903923035, -0.4441957473754883, -0.4704654812812805, -0.4652918577194214, -0.46088072657585144, -0.4297066330909729, -0.37626057863235474, -0.33771443367004395, -0.29610079526901245, -0.23568594455718994, -0.19336311519145966, -0.1474403291940689, -0.08502079546451569, -0.03276301920413971, 0.013953717425465584, 0.059023208916187286, 0.09958755970001221, 0.12647563219070435, 0.17770403623580933, 0.22274447977542877, 0.23056258261203766, 0.2303045094013214, 0.22336313128471375, 0.18409645557403564, 0.1325860619544983, 0.08622418344020844, 0.038459114730358124, 0.03735838830471039, 0.07221381366252899, 0.09976505488157272, 0.11770232021808624, 0.15699566900730133, 0.192307710647583, 0.21670472621917725, 0.26093676686286926, 0.2976700961589813, 0.31797921657562256, 0.3417569398880005, 0.35666513442993164, 0.32872864603996277, 0.29631245136260986, 0.2678958773612976, 0.2254793643951416, 0.1906082183122635, 0.1730644702911377, 0.16585469245910645, 0.17718040943145752, 0.2139091193675995, 0.23148593306541443, 0.2291804701089859, 0.24305713176727295, 0.23742526769638062, 0.20616666972637177, 0.21025840938091278, 0.21065855026245117, 0.18626800179481506, 0.1826103776693344, 0.18469353020191193, 0.13358303904533386, 0.05809517204761505, 0.06342783570289612, 0.08174437284469604, 0.05874526873230934, 0.029860299080610275, 0.018751034513115883, 0.006760776042938232, -0.03738626837730408, -0.07711824029684067, -0.08925497531890869, -0.07469545304775238, -0.06621906161308289, -0.05062133073806763, -0.04961448162794113, -0.07536362111568451, -0.08186501264572144, -0.0751662477850914, -0.10238336026668549, -0.11911056190729141, -0.06930676102638245, -0.06823515892028809, -0.13056117296218872, -0.1496029645204544, -0.12468817830085754, -0.1485121250152588, -0.15624713897705078, -0.0890309065580368, -0.024309081956744194, 0.028097424656152725, 0.08708110451698303, 0.1326466202735901, 0.15114519000053406, 0.17410556972026825, 0.18846838176250458, 0.21328803896903992, 0.25827929377555847, 0.3215453028678894, 0.3770483136177063, 0.399446576833725, 0.38077473640441895, 0.31009286642074585, 0.22071436047554016, 0.11111105978488922, -0.002894379198551178, -0.07657575607299805, -0.10853881388902664, -0.13464857637882233, -0.15243016183376312, -0.1555919647216797, -0.17789657413959503, -0.20383119583129883, -0.2164076566696167, -0.2341635823249817, -0.2336190789937973, -0.19387009739875793, -0.1289408802986145, -0.09812365472316742, -0.0831996351480484, -0.060190267860889435, -0.05641651898622513, -0.06443075090646744, -0.09223517030477524, -0.10689175128936768, -0.11349097639322281, -0.1367231011390686, -0.18551042675971985, -0.22906407713890076, -0.2610221803188324, -0.29606980085372925, -0.2975144684314728, -0.24704477190971375, -0.16473360359668732, -0.09006629884243011, 0.005252225324511528, 0.09014657139778137, 0.13194023072719574, 0.15176600217819214, 0.15868906676769257, 0.15681251883506775, 0.16202032566070557, 0.17884746193885803, 0.19224567711353302, 0.21976199746131897, 0.25787994265556335, 0.2672497034072876, 0.25800615549087524, 0.25304412841796875, 0.23219671845436096, 0.20197457075119019, 0.18432272970676422, 0.16664636135101318, 0.12854692339897156, 0.08835217356681824, 0.04361444711685181, -0.0029080919921398163, -0.018053025007247925, 0.008847455494105816, 0.06067178398370743, 0.1289518177509308, 0.18276038765907288, 0.1981789469718933, 0.18304443359375, 0.13165704905986786, 0.03958423063158989, -0.06466523557901382, -0.13303644955158234, -0.18299275636672974, -0.21348045766353607, -0.2111121416091919, -0.2068844884634018, -0.2138289213180542, -0.2199079841375351, -0.22934363782405853, -0.2562088966369629, -0.2886093258857727, -0.3153308033943176, -0.3329770863056183, -0.3441406488418579, -0.3457048237323761, -0.36425259709358215, -0.37874889373779297, -0.37136828899383545, -0.3705480098724365, -0.37400951981544495, -0.3861202001571655, -0.39191240072250366, -0.39262038469314575, -0.4085645377635956, -0.44240957498550415, -0.48159295320510864, -0.5074278712272644, -0.5293786525726318, -0.5410259962081909, -0.5206451416015625, -0.4895753860473633, -0.4625069499015808, -0.40251511335372925, -0.3269463777542114, -0.2922814190387726, -0.28115981817245483, -0.2694573402404785, -0.2684279978275299, -0.2875003516674042, -0.30901849269866943, -0.3284434676170349, -0.3423047959804535, -0.3422212600708008, -0.33364924788475037, -0.3048258423805237, -0.25827768445014954, -0.20935958623886108, -0.15416783094406128, -0.10438281297683716, -0.06619343906641006, -0.02760511264204979, -0.006199222523719072, 0.004876385908573866, 0.013585027307271957, 0.00978129543364048, -0.007236141711473465, -0.030838342383503914, -0.043142907321453094, -0.05792713165283203, -0.07385523617267609, -0.07218533754348755, -0.06817318499088287, -0.08095185458660126, -0.11035652458667755, -0.14629995822906494, -0.19477501511573792, -0.2463805377483368, -0.27577656507492065, -0.29339104890823364, -0.3073415160179138, -0.3075881004333496, -0.3068690299987793, -0.29722678661346436, -0.27466678619384766, -0.23596003651618958, -0.18301883339881897, -0.12048181146383286, -0.08433166891336441, -0.1037728488445282, -0.13596099615097046, -0.17725637555122375, -0.24062514305114746, -0.2841317653656006, -0.2734723389148712, -0.25215932726860046, -0.22642402350902557, -0.17965276539325714, -0.12898673117160797, -0.08639829605817795, -0.06889580935239792, -0.07178040593862534, -0.05723276734352112, 0.0076043857261538506, 0.07635697722434998, 0.1236908957362175, 0.20134228467941284, 0.29567041993141174, 0.33123767375946045, 0.31304603815078735, 0.29618459939956665, 0.29017946124076843, 0.2812851071357727, 0.2627869248390198, 0.25521576404571533, 0.28725290298461914, 0.3525981903076172, 0.37933671474456787, 0.33299338817596436, 0.2548825144767761, 0.18326491117477417, 0.10619572550058365, 0.02471167966723442, -0.00826221238821745, 0.031925544142723083, 0.0980570912361145, 0.1292978674173355, 0.14359518885612488, 0.17084363102912903, 0.18645800650119781, 0.16888341307640076, 0.14907291531562805, 0.16026261448860168, 0.16552244126796722, 0.1625976860523224, 0.15773651003837585, 0.14580491185188293, 0.14588771760463715, 0.1617002785205841, 0.18613964319229126, 0.22006113827228546, 0.28128695487976074, 0.3432433605194092, 0.3686789870262146, 0.347740113735199, 0.2765488028526306, 0.16990205645561218, 0.04725257679820061, -0.0662175863981247, -0.15670712292194366, -0.21251341700553894, -0.22447600960731506, -0.21921777725219727, -0.2109663486480713, -0.23061418533325195, -0.27525216341018677, -0.32388657331466675, -0.36236998438835144, -0.3770313262939453, -0.36287564039230347, -0.30925220251083374, -0.2713398039340973, -0.26303648948669434, -0.2508208751678467, -0.22489242255687714, -0.1872142255306244, -0.1352408081293106, -0.046216510236263275, 0.057510197162628174, 0.12750069797039032, 0.13620886206626892, 0.09349648654460907, 0.02122724987566471, -0.05874623358249664, -0.12665730714797974, -0.15012414753437042, -0.12247081100940704, -0.0748276636004448, 0.004647267051041126, 0.10060809552669525, 0.1857784539461136, 0.24994593858718872, 0.29864007234573364, 0.3482639193534851, 0.402631551027298, 0.4668692946434021, 0.5399733185768127, 0.6237320899963379, 0.7038893699645996, 0.7539954781532288, 0.7683890461921692, 0.7602219581604004, 0.7183324098587036, 0.6519335508346558, 0.5941886901855469, 0.5522352457046509, 0.5050355792045593, 0.4419419467449188, 0.3757064938545227, 0.30282241106033325, 0.22611433267593384, 0.16025762259960175, 0.11052943766117096, 0.08861541748046875, 0.08308232575654984, 0.10504448413848877, 0.15150605142116547, 0.20326834917068481, 0.23974168300628662, 0.24264101684093475, 0.2258467972278595, 0.1728357970714569, 0.09994462877511978, 0.029737772420048714, -0.0295307245105505, -0.06885366141796112, -0.09374848753213882, -0.11040915548801422, -0.12884467840194702, -0.1453789472579956, -0.1619025468826294, -0.18981748819351196, -0.20633286237716675, -0.20232275128364563, -0.19408032298088074, -0.1760847270488739, -0.13531509041786194, -0.09257037192583084, -0.07642485946416855, -0.057464294135570526, -0.034293148666620255, -0.016092073172330856, 0.010747363790869713, 0.053233906626701355, 0.10047408938407898, 0.13369256258010864, 0.1497918665409088, 0.1326371729373932, 0.09637707471847534, 0.05133082717657089, 0.009870771318674088, -0.003752005286514759, 0.012443356215953827, 0.03879019618034363, 0.04457162693142891, 0.038048386573791504, 0.036854878067970276, 0.039884425699710846, 0.05481293052434921, 0.080295130610466, 0.10693104565143585, 0.1348493993282318, 0.15151666104793549, 0.142462357878685, 0.11650253087282181, 0.09331510215997696, 0.0733514353632927, 0.06288079172372818, 0.06031034141778946, 0.05026300996541977, 0.05314301699399948, 0.06805796921253204, 0.07744452357292175, 0.06543847918510437, 0.04886426031589508, 0.038419898599386215, 0.026090415194630623, 0.031981080770492554, 0.06028631329536438, 0.11101116240024567, 0.16047853231430054, 0.19420669972896576, 0.20365148782730103, 0.17838460206985474, 0.13116832077503204, 0.09283214807510376, 0.07700234651565552, 0.07073628157377243, 0.08554570376873016, 0.12109550833702087, 0.1408635824918747, 0.13863682746887207, 0.13028568029403687, 0.10889121890068054, 0.09886994957923889, 0.11624549329280853, 0.15395428240299225, 0.20187035202980042, 0.2601965069770813, 0.33595722913742065, 0.38920217752456665, 0.41454195976257324, 0.42825043201446533, 0.4275628328323364, 0.3903607428073883, 0.36574095487594604, 0.3764842748641968, 0.3889769911766052, 0.39482372999191284, 0.3934769332408905, 0.4041765332221985, 0.4194995164871216, 0.4142080545425415, 0.3778613209724426, 0.397134006023407, 0.4618105888366699, 0.46951520442962646, 0.4308284521102905, 0.4182506501674652, 0.39303940534591675, 0.31991758942604065, 0.272355318069458, 0.2613758444786072, 0.2797499895095825, 0.3432909846305847, 0.4004310965538025, 0.35986196994781494, 0.257906436920166, 0.15689495205879211, 0.02396686188876629, -0.1425778567790985, -0.2451777160167694, -0.23972363770008087, -0.217378169298172, -0.22581395506858826, -0.2217569202184677, -0.21179905533790588, -0.234682098031044, -0.24618397653102875, -0.21186068654060364, -0.13443119823932648, -0.041223570704460144, 0.023963816463947296, 0.03744707629084587, 0.01361190713942051, -0.030787235125899315, -0.08839094638824463, -0.12387077510356903, -0.10738254338502884]]]'"
      ]
     },
     "execution_count": 71,
     "metadata": {},
     "output_type": "execute_result"
    }
   ],
   "source": [
    "import json\n",
    "json.dumps(s.tolist())"
   ]
  },
  {
   "cell_type": "code",
   "execution_count": 72,
   "id": "31ccdc39-ddcb-4514-ac20-4998733ec2c9",
   "metadata": {},
   "outputs": [
    {
     "data": {
      "text/plain": [
       "'/Users/maxj/Music/Rips/Spotify/AIFF/2fox - We Are - 6Lxi9O5CWRgjrqvWdbn2lT.aiff'"
      ]
     },
     "execution_count": 72,
     "metadata": {},
     "output_type": "execute_result"
    }
   ],
   "source": [
    "filename"
   ]
  },
  {
   "cell_type": "code",
   "execution_count": 73,
   "id": "fc2682db-e352-4306-8ae7-9de52fee2a25",
   "metadata": {},
   "outputs": [],
   "source": [
    "with open(filename, 'rb') as f:\n",
    "    data = f.read()"
   ]
  },
  {
   "cell_type": "code",
   "execution_count": 75,
   "id": "9b2b0f3e-4979-4ae1-96c7-d35fdfe0ff86",
   "metadata": {},
   "outputs": [],
   "source": [
    "import io\n",
    "wav, sr = torchaudio.load(io.BytesIO(data))"
   ]
  },
  {
   "cell_type": "code",
   "execution_count": 77,
   "id": "54a65b05-a185-4ba3-a35e-b0689ed3d1bc",
   "metadata": {},
   "outputs": [
    {
     "data": {
      "text/plain": [
       "torch.Size([2, 11267550])"
      ]
     },
     "execution_count": 77,
     "metadata": {},
     "output_type": "execute_result"
    }
   ],
   "source": [
    "wav.shape"
   ]
  },
  {
   "cell_type": "code",
   "execution_count": 87,
   "id": "b7ccc093-1be5-4f11-a321-b6305725b07b",
   "metadata": {},
   "outputs": [],
   "source": [
    "import numpy as np"
   ]
  },
  {
   "cell_type": "code",
   "execution_count": 92,
   "id": "5eb469fb-c100-47e4-86da-0ab3f9d1c001",
   "metadata": {},
   "outputs": [
    {
     "data": {
      "text/plain": [
       "408928"
      ]
     },
     "execution_count": 92,
     "metadata": {},
     "output_type": "execute_result"
    }
   ],
   "source": [
    "memfile = io.BytesIO()\n",
    "np.save(memfile, toks.numpy())\n",
    "serialized = memfile.getvalue()\n",
    "len(serialized)"
   ]
  },
  {
   "cell_type": "code",
   "execution_count": 94,
   "id": "c75cfee7-8d57-4208-9cb6-470b79c60548",
   "metadata": {},
   "outputs": [
    {
     "data": {
      "text/plain": [
       "102328"
      ]
     },
     "execution_count": 94,
     "metadata": {},
     "output_type": "execute_result"
    }
   ],
   "source": [
    "memfile = io.BytesIO()\n",
    "np.save(memfile, toks.numpy().astype(np.int16))\n",
    "serialized = memfile.getvalue()\n",
    "len(serialized)"
   ]
  },
  {
   "cell_type": "code",
   "execution_count": 95,
   "id": "93c115e5-74ab-4245-89ff-451898ae655a",
   "metadata": {},
   "outputs": [
    {
     "data": {
      "text/plain": [
       "71669"
      ]
     },
     "execution_count": 95,
     "metadata": {},
     "output_type": "execute_result"
    }
   ],
   "source": [
    "import gzip\n",
    "\n",
    "memfile = io.BytesIO()\n",
    "with gzip.GzipFile(fileobj=memfile, mode='wb') as gzfile:\n",
    "    np.save(gzfile, toks.numpy().astype(np.int16))\n",
    "serialized = memfile.getvalue()\n",
    "len(serialized)"
   ]
  },
  {
   "cell_type": "code",
   "execution_count": 97,
   "id": "002be316-8c9b-4489-a213-2b752576d880",
   "metadata": {},
   "outputs": [
    {
     "data": {
      "text/plain": [
       "torch.Size([2, 11267550])"
      ]
     },
     "execution_count": 97,
     "metadata": {},
     "output_type": "execute_result"
    }
   ],
   "source": [
    "wav.shape"
   ]
  },
  {
   "cell_type": "code",
   "execution_count": 100,
   "id": "4dbe7ad8-b8ad-493f-ac11-9ce0051cbdae",
   "metadata": {},
   "outputs": [
    {
     "ename": "IndexError",
     "evalue": "too many indices for tensor of dimension 2",
     "output_type": "error",
     "traceback": [
      "\u001b[0;31m---------------------------------------------------------------------------\u001b[0m",
      "\u001b[0;31mIndexError\u001b[0m                                Traceback (most recent call last)",
      "Cell \u001b[0;32mIn[100], line 1\u001b[0m\n\u001b[0;32m----> 1\u001b[0m \u001b[43mget_wav_sample\u001b[49m\u001b[43m(\u001b[49m\u001b[38;5;241;43m100\u001b[39;49m\u001b[43m)\u001b[49m\u001b[38;5;241m.\u001b[39mshape\n",
      "Cell \u001b[0;32mIn[29], line 5\u001b[0m, in \u001b[0;36mget_wav_sample\u001b[0;34m(n_samples)\u001b[0m\n\u001b[1;32m      3\u001b[0m middle_start \u001b[38;5;241m=\u001b[39m (wav\u001b[38;5;241m.\u001b[39mshape[\u001b[38;5;241m-\u001b[39m\u001b[38;5;241m1\u001b[39m] \u001b[38;5;241m-\u001b[39m n_samples) \u001b[38;5;241m/\u001b[39m\u001b[38;5;241m/\u001b[39m \u001b[38;5;241m2\u001b[39m\n\u001b[1;32m      4\u001b[0m \u001b[38;5;66;03m# Extract the middle 512 samples\u001b[39;00m\n\u001b[0;32m----> 5\u001b[0m \u001b[38;5;28;01mreturn\u001b[39;00m \u001b[43mwav\u001b[49m\u001b[43m[\u001b[49m\u001b[43m:\u001b[49m\u001b[43m,\u001b[49m\u001b[43m \u001b[49m\u001b[43m:\u001b[49m\u001b[43m,\u001b[49m\u001b[43m \u001b[49m\u001b[43mmiddle_start\u001b[49m\u001b[43m:\u001b[49m\u001b[43mmiddle_start\u001b[49m\u001b[43m \u001b[49m\u001b[38;5;241;43m+\u001b[39;49m\u001b[43m \u001b[49m\u001b[43mn_samples\u001b[49m\u001b[43m]\u001b[49m\n",
      "\u001b[0;31mIndexError\u001b[0m: too many indices for tensor of dimension 2"
     ]
    }
   ],
   "source": [
    "get_wav_sample(100).shape"
   ]
  },
  {
   "cell_type": "code",
   "execution_count": 114,
   "id": "9121dc06-dd9d-41fa-a667-ae469985c80a",
   "metadata": {},
   "outputs": [],
   "source": [
    "def batch_indexes(total_len, context_limit, window_size):\n",
    "    # Tuples (batch_start, batch_end, window_start)\n",
    "    start = min(context_limit, total_len)\n",
    "    idxs = [(0, start, 0)]\n",
    "    for window_start in range(start, total_len, window_size):\n",
    "        batch_end = window_start + window_size\n",
    "        if batch_end > total_len:\n",
    "            batch_end = total_len\n",
    "        batch_start = batch_end - context_limit\n",
    "        idxs.append((batch_start, batch_end, window_start))\n",
    "    return idxs"
   ]
  },
  {
   "cell_type": "code",
   "execution_count": 171,
   "id": "0bdfdc20-3af0-41d2-9383-b6e8c39b7719",
   "metadata": {},
   "outputs": [],
   "source": [
    "def get_num_batches(input_len: int, context_limit: int, window_size: int):\n",
    "    # First batch\n",
    "    num_batches = 1\n",
    "    if input_len > context_limit:\n",
    "        remaining = (input_len - context_limit)\n",
    "        # Intermediate batches\n",
    "        num_batches += remaining // window_size\n",
    "        # Final batch (if necessary)\n",
    "        if remaining % window_size != 0:\n",
    "            num_batches += 1\n",
    "    return num_batches\n",
    "\n",
    "def get_relevant_embeddings(embed_output: torch.Tensor, window_size: int, input_len: int):\n",
    "    B, T, dim = embed_output.shape\n",
    "    B_expected = get_num_batches(input_len, T, window_size)\n",
    "    assert B_expected == B, f\"expected {B_expected} got {B}\"\n",
    "\n",
    "    # Handling the first batch\n",
    "    relevant_parts = [embed_output[0]]\n",
    "\n",
    "    # Handling the intermediate batches (if any)\n",
    "    if B > 2:\n",
    "        intermediate_parts = embed_output[1:-1, -window_size:]\n",
    "        relevant_parts.append(intermediate_parts.reshape(-1, dim))\n",
    "\n",
    "    if B > 1:\n",
    "        # Handling the last batch\n",
    "        last_batch_effective_size = input_len - T - (B - 2) * window_size\n",
    "        last_batch_part = embed_output[-1, -last_batch_effective_size:]\n",
    "        relevant_parts.append(last_batch_part.reshape(-1, dim))\n",
    "    \n",
    "        # Concatenate into a single tensor\n",
    "        relevant_embeddings = torch.cat(relevant_parts, dim=0)\n",
    "    else:\n",
    "        relevant_embeddings = relevant_parts[0]\n",
    "\n",
    "    assert relevant_embeddings.shape[0] == input_len\n",
    "    return relevant_embeddings"
   ]
  },
  {
   "cell_type": "code",
   "execution_count": 172,
   "id": "0a674146-e985-42d7-9d6c-523f483f023e",
   "metadata": {},
   "outputs": [
    {
     "data": {
      "text/plain": [
       "tensor([1., 1., 1., 1., 1., 1., 1., 1., 1., 1., 1., 1., 1., 1., 1., 1., 1., 1.,\n",
       "        1., 1., 1., 1., 1.])"
      ]
     },
     "execution_count": 172,
     "metadata": {},
     "output_type": "execute_result"
    }
   ],
   "source": [
    "get_relevant_embeddings(torch.ones(4, 100, 23), 20, 141).mean(dim=0)"
   ]
  },
  {
   "cell_type": "code",
   "execution_count": 169,
   "id": "03640f9a-0807-4955-bd5e-91abe296bf23",
   "metadata": {},
   "outputs": [],
   "source": [
    "def input_batches(input: torch.Tensor, context_limit: int, window_size: int):\n",
    "    \"\"\" input is of shape (_, T) where T is the input length \"\"\"\n",
    "    K, T = input.shape\n",
    "    num_batches = get_num_batches(T, context_limit, window_size)\n",
    "\n",
    "    batches = []\n",
    "\n",
    "    # Generate the batches\n",
    "    for i in range(num_batches):\n",
    "        start_index = i * window_size\n",
    "        end_index = start_index + context_limit\n",
    "        if end_index > T:\n",
    "            end_index = T\n",
    "            start_index = end_index - context_limit\n",
    "        print(f'{start_index=}, {end_index=}')\n",
    "        chunk = input[:, start_index:end_index]\n",
    "        batches.append(chunk)\n",
    "    assert len(batches) == num_batches\n",
    "\n",
    "    # Concatenate the batches along the batch dimension\n",
    "    batched_input = torch.stack(batches, dim=0)\n",
    "\n",
    "    return batched_input"
   ]
  },
  {
   "cell_type": "code",
   "execution_count": 170,
   "id": "5e32d736-6f03-4e01-9c97-8db9b34ac091",
   "metadata": {},
   "outputs": [
    {
     "name": "stdout",
     "output_type": "stream",
     "text": [
      "start_index=0, end_index=100\n",
      "start_index=20, end_index=120\n",
      "start_index=40, end_index=140\n",
      "start_index=41, end_index=141\n"
     ]
    },
    {
     "data": {
      "text/plain": [
       "tensor([[[1., 1., 1., 1., 1., 1., 1., 1., 1., 1., 1., 1., 1., 1., 1., 1., 1.,\n",
       "          1., 1., 1., 1., 1., 1., 1., 1., 1., 1., 1., 1., 1., 1., 1., 1., 1.,\n",
       "          1., 1., 1., 1., 1., 1., 1., 1., 1., 1., 1., 1., 1., 1., 1., 1., 1.,\n",
       "          1., 1., 1., 1., 1., 1., 1., 1., 1., 1., 1., 1., 1., 1., 1., 1., 1.,\n",
       "          1., 1., 1., 1., 1., 1., 1., 1., 1., 1., 1., 1., 1., 1., 1., 1., 1.,\n",
       "          1., 1., 1., 1., 1., 1., 1., 1., 1., 1., 1., 1., 1., 1., 1.]],\n",
       "\n",
       "        [[1., 1., 1., 1., 1., 1., 1., 1., 1., 1., 1., 1., 1., 1., 1., 1., 1.,\n",
       "          1., 1., 1., 1., 1., 1., 1., 1., 1., 1., 1., 1., 1., 1., 1., 1., 1.,\n",
       "          1., 1., 1., 1., 1., 1., 1., 1., 1., 1., 1., 1., 1., 1., 1., 1., 1.,\n",
       "          1., 1., 1., 1., 1., 1., 1., 1., 1., 1., 1., 1., 1., 1., 1., 1., 1.,\n",
       "          1., 1., 1., 1., 1., 1., 1., 1., 1., 1., 1., 1., 1., 1., 1., 1., 1.,\n",
       "          1., 1., 1., 1., 1., 1., 1., 1., 1., 1., 1., 1., 1., 1., 1.]],\n",
       "\n",
       "        [[1., 1., 1., 1., 1., 1., 1., 1., 1., 1., 1., 1., 1., 1., 1., 1., 1.,\n",
       "          1., 1., 1., 1., 1., 1., 1., 1., 1., 1., 1., 1., 1., 1., 1., 1., 1.,\n",
       "          1., 1., 1., 1., 1., 1., 1., 1., 1., 1., 1., 1., 1., 1., 1., 1., 1.,\n",
       "          1., 1., 1., 1., 1., 1., 1., 1., 1., 1., 1., 1., 1., 1., 1., 1., 1.,\n",
       "          1., 1., 1., 1., 1., 1., 1., 1., 1., 1., 1., 1., 1., 1., 1., 1., 1.,\n",
       "          1., 1., 1., 1., 1., 1., 1., 1., 1., 1., 1., 1., 1., 1., 1.]],\n",
       "\n",
       "        [[1., 1., 1., 1., 1., 1., 1., 1., 1., 1., 1., 1., 1., 1., 1., 1., 1.,\n",
       "          1., 1., 1., 1., 1., 1., 1., 1., 1., 1., 1., 1., 1., 1., 1., 1., 1.,\n",
       "          1., 1., 1., 1., 1., 1., 1., 1., 1., 1., 1., 1., 1., 1., 1., 1., 1.,\n",
       "          1., 1., 1., 1., 1., 1., 1., 1., 1., 1., 1., 1., 1., 1., 1., 1., 1.,\n",
       "          1., 1., 1., 1., 1., 1., 1., 1., 1., 1., 1., 1., 1., 1., 1., 1., 1.,\n",
       "          1., 1., 1., 1., 1., 1., 1., 1., 1., 1., 1., 1., 1., 1., 1.]]])"
      ]
     },
     "execution_count": 170,
     "metadata": {},
     "output_type": "execute_result"
    }
   ],
   "source": [
    "input_batches(torch.ones((1, 141)), 100, 20)"
   ]
  },
  {
   "cell_type": "code",
   "execution_count": 219,
   "id": "6ad8ef39-c13f-4f06-8fce-801610594464",
   "metadata": {},
   "outputs": [],
   "source": [
    "def tensor_chunk(input_tensor, chunk_size, dim=0):\n",
    "    chunks = []\n",
    "    input_size = input_tensor.size(dim)\n",
    "    num_chunks = input_size // chunk_size\n",
    "    for i in range(num_chunks):\n",
    "        chunks.append(input_tensor.narrow(dim, i * chunk_size, chunk_size))\n",
    "    if input_size % chunk_size != 0:\n",
    "        chunks.append(input_tensor.narrow(dim, num_chunks * chunk_size, input_size % chunk_size))\n",
    "    return chunks"
   ]
  },
  {
   "cell_type": "code",
   "execution_count": 235,
   "id": "6f32be59-55a0-4128-96cb-2d77258ff0de",
   "metadata": {},
   "outputs": [],
   "source": [
    "def empty_condition_tensors(a, b):\n",
    "    pass\n",
    "def compute_embeddings(\n",
    "    lm, condition_tensors, sequence: torch.Tensor\n",
    ") -> torch.Tensor:\n",
    "    \"\"\"\n",
    "    mock version\"\"\"\n",
    "    B, K, T = sequence.shape\n",
    "    return torch.ones((B, T, 23))"
   ]
  },
  {
   "cell_type": "code",
   "execution_count": 254,
   "id": "31328f7f-b023-40f5-8b66-6d0dd9706e32",
   "metadata": {},
   "outputs": [],
   "source": [
    "def get_num_batches(input_len: int, context_limit: int, window_size: int):\n",
    "    # First batch\n",
    "    num_batches = 1\n",
    "    if input_len > context_limit:\n",
    "        remaining = input_len - context_limit\n",
    "        # Intermediate batches\n",
    "        num_batches += remaining // window_size\n",
    "        # Final batch (if necessary)\n",
    "        if remaining % window_size != 0:\n",
    "            num_batches += 1\n",
    "    return num_batches\n",
    "\n",
    "\n",
    "def input_batches(input_tensor: torch.Tensor, context_limit: int, window_size: int):\n",
    "    \"\"\"input_tensor is of shape (_, T) where T is the input_tensor length\"\"\"\n",
    "    print(f\"{input_tensor.shape=}\")\n",
    "    input_len = input_tensor.shape[-1]\n",
    "    num_batches = get_num_batches(input_len, context_limit, window_size)\n",
    "    # Generate the batches\n",
    "    batches = []\n",
    "    for i in range(num_batches):\n",
    "        start_index = i * window_size\n",
    "        end_index = start_index + context_limit\n",
    "        if end_index > input_len:\n",
    "            end_index = input_len\n",
    "            start_index = end_index - context_limit\n",
    "        chunk = input_tensor[:, start_index:end_index]\n",
    "        batches.append(chunk)\n",
    "    assert len(batches) == num_batches\n",
    "    # Concatenate the batches along the batch dimension\n",
    "    return torch.stack(batches, dim=0)\n",
    "\n",
    "\n",
    "def compute_all_embeddings_from_codes(\n",
    "    lm, codes, context_limit, window_size, max_batch=100\n",
    "):\n",
    "    input_len = codes.shape[-1]\n",
    "    # Turn the input into batches to fit the context limit of the transformer\n",
    "    batches = input_batches(codes, context_limit, window_size)\n",
    "    num_batches = batches.shape[0]\n",
    "    # Chunk the batches to ensure we stay within GPU memory limit\n",
    "    chunks = tensor_chunk(batches, max_batch)\n",
    "    num_chunks = len(chunks)\n",
    "    print(f\"{num_batches=} {num_chunks=}\")\n",
    "    chunk_embeddings = []\n",
    "    for i, batch in enumerate(chunks):\n",
    "        # Compute embeddings for the chunk\n",
    "        with torch.no_grad():\n",
    "            condition_tensors = empty_condition_tensors(lm, batch)\n",
    "            embeddings = compute_embeddings(lm, condition_tensors, batch)\n",
    "        B, T, dim = embeddings.shape\n",
    "        batch_embeddings = []\n",
    "        # Handle the first batch of the first chunk - it is included in its entirety\n",
    "        if i == 0:\n",
    "            batch_embeddings.append(embeddings[0])\n",
    "        # Handle intermediate batches - only the last window_size embeddings are included\n",
    "        if num_batches > 2:\n",
    "            a, b = 0, B\n",
    "            if i == 0:\n",
    "                a += 1  # In the first chunk, skip the first batch\n",
    "            if i == num_chunks - 1:\n",
    "                b -= 1  # In the last chunk, skip the last batch\n",
    "            intermediate_embeddings = embeddings[a:b, -window_size:]\n",
    "            batch_embeddings.append(intermediate_embeddings.reshape(-1, dim))\n",
    "        # Handling the last batch - output size varies based on input size\n",
    "        if i == num_chunks - 1 and num_batches > 1:\n",
    "            last_batch_effective_size = input_len - T - (num_batches - 2) * window_size\n",
    "            last_batch_embeddings = embeddings[-1, -last_batch_effective_size:]\n",
    "            batch_embeddings.append(last_batch_embeddings.reshape(-1, dim))\n",
    "        # Combine all batch embeddings and add to chunk embeddings\n",
    "        chunk_embeddings.append(torch.cat(batch_embeddings, dim=0))\n",
    "    # Finally, combine all chunk embeddings\n",
    "    all_embeddings = torch.cat(chunk_embeddings, dim=0)\n",
    "    assert all_embeddings.shape[0] == input_len\n",
    "    return all_embeddings"
   ]
  },
  {
   "cell_type": "code",
   "execution_count": 253,
   "id": "bb7a5927-a2b5-4ad3-b1a6-e878242c04d3",
   "metadata": {},
   "outputs": [
    {
     "name": "stdout",
     "output_type": "stream",
     "text": [
      "input_tensor.shape=torch.Size([4, 12775])\n",
      "num_batches=227 num_chunks=3\n",
      "last_batch_effective_size=25\n"
     ]
    },
    {
     "data": {
      "text/plain": [
       "tensor([[1., 1., 1.,  ..., 1., 1., 1.],\n",
       "        [1., 1., 1.,  ..., 1., 1., 1.],\n",
       "        [1., 1., 1.,  ..., 1., 1., 1.],\n",
       "        ...,\n",
       "        [1., 1., 1.,  ..., 1., 1., 1.],\n",
       "        [1., 1., 1.,  ..., 1., 1., 1.],\n",
       "        [1., 1., 1.,  ..., 1., 1., 1.]])"
      ]
     },
     "execution_count": 253,
     "metadata": {},
     "output_type": "execute_result"
    }
   ],
   "source": [
    "compute_all_embeddings_from_codes(model.lm, codes[0], 1500, 50)"
   ]
  },
  {
   "cell_type": "code",
   "execution_count": 220,
   "id": "519ba0a0-948e-4b10-a822-db83850c3dec",
   "metadata": {},
   "outputs": [
    {
     "data": {
      "text/plain": [
       "[tensor([1, 2]), tensor([3, 4]), tensor([5])]"
      ]
     },
     "execution_count": 220,
     "metadata": {},
     "output_type": "execute_result"
    }
   ],
   "source": [
    "tensor_chunk(torch.tensor([1, 2, 3, 4, 5]), 2)"
   ]
  },
  {
   "cell_type": "code",
   "execution_count": 10,
   "id": "b04c85b7-5cf8-41df-bbda-eea79257f7af",
   "metadata": {},
   "outputs": [
    {
     "data": {
      "text/plain": [
       "torch.Size([1, 4, 1499])"
      ]
     },
     "execution_count": 10,
     "metadata": {},
     "output_type": "execute_result"
    }
   ],
   "source": [
    "toks[..., :1499].shape"
   ]
  },
  {
   "cell_type": "code",
   "execution_count": 24,
   "id": "239080a0-6f8a-47e0-a28f-faa00cfcca5f",
   "metadata": {},
   "outputs": [],
   "source": [
    "pattern = model.lm.pattern_provider.get_pattern(1499)"
   ]
  },
  {
   "cell_type": "code",
   "execution_count": 25,
   "id": "e2ec1782-bdc4-4fde-8337-ab2480d951d3",
   "metadata": {},
   "outputs": [],
   "source": [
    "gen_sequence, indexes, mask = pattern.build_pattern_sequence(toks[..., :1499].contiguous(), model.lm.special_token_id)"
   ]
  },
  {
   "cell_type": "code",
   "execution_count": 26,
   "id": "c9299068-f8ef-428b-844a-adebc78400a1",
   "metadata": {},
   "outputs": [
    {
     "data": {
      "text/plain": [
       "torch.Size([1, 4, 1503])"
      ]
     },
     "execution_count": 26,
     "metadata": {},
     "output_type": "execute_result"
    }
   ],
   "source": [
    "gen_sequence.shape"
   ]
  },
  {
   "cell_type": "code",
   "execution_count": 27,
   "id": "fece5362-d40c-4785-bf50-a875951c1f5f",
   "metadata": {},
   "outputs": [],
   "source": [
    "def compute_embeddings(\n",
    "    lm, condition_tensors, sequence: torch.Tensor\n",
    ") -> torch.Tensor:\n",
    "    \"\"\"This is a copy of the LMModel.forward function, omitting the final layer that maps the\n",
    "    embeddings to logits.\n",
    "\n",
    "    Apply the language model on sequence to generate embeddings.\n",
    "    Given a tensor of sequence of shape [B, K, S] with K the number of codebooks and\n",
    "    S the sequence steps, return the logits with shape [B, card, K, S].\n",
    "\n",
    "    Args:\n",
    "        lm (audiocraft.models.lm.LMModel): The pretrained LMModel to use for embeddings.\n",
    "        condition_tensors (dict[str, ConditionType], optional): Pre-computed conditioning\n",
    "            tensors, get via `empty_condition_tensors`.\n",
    "        sequence (torch.Tensor): Model inputs.\n",
    "    Returns:\n",
    "        torch.Tensor: Logits.\n",
    "    \"\"\"\n",
    "    _, K, _ = sequence.shape\n",
    "    assert (\n",
    "        K == lm.num_codebooks\n",
    "    ), \"Sequence shape must match the specified number of codebooks\"\n",
    "    input_ = sum([lm.emb[k](sequence[:, k]) for k in range(K)])\n",
    "\n",
    "    input_, cross_attention_input = lm.fuser(input_, condition_tensors)\n",
    "\n",
    "    out = lm.transformer(input_, cross_attention_src=cross_attention_input)\n",
    "    if lm.out_norm:\n",
    "        out = lm.out_norm(out)\n",
    "    return out\n",
    "\n",
    "\n",
    "def empty_condition_tensors(lm, sequence: torch.Tensor):\n",
    "    \"\"\"Compute condition tensors suitable for use with the musicgen transformer model, corresponding\n",
    "    to an empty input for each input in the batch.\n",
    "    \"\"\"\n",
    "    conditions = [ConditioningAttributes(text={\"description\": None}) for _ in sequence]\n",
    "    conditions = lm.cfg_dropout(conditions)\n",
    "    conditions = lm.att_dropout(conditions)\n",
    "    tokenized = lm.condition_provider.tokenize(conditions)\n",
    "    # encode conditions and fuse, both have a streaming cache to not recompute when generating.\n",
    "    condition_tensors = lm.condition_provider(tokenized)\n",
    "    return condition_tensors"
   ]
  },
  {
   "cell_type": "code",
   "execution_count": 28,
   "id": "4fc85488-31fa-4b99-b632-0553c34f390d",
   "metadata": {},
   "outputs": [
    {
     "data": {
      "text/plain": [
       "torch.Size([1, 1503, 1536])"
      ]
     },
     "execution_count": 28,
     "metadata": {},
     "output_type": "execute_result"
    }
   ],
   "source": [
    "condition_tensors = empty_condition_tensors(model.lm, gen_sequence)\n",
    "embeddings = compute_embeddings(model.lm, condition_tensors, gen_sequence)\n",
    "embeddings.shape"
   ]
  },
  {
   "cell_type": "code",
   "execution_count": null,
   "id": "caa03b74-8b36-4ca0-a692-fa28852fa1fc",
   "metadata": {},
   "outputs": [],
   "source": []
  },
  {
   "cell_type": "code",
   "execution_count": null,
   "id": "717dc086-3a7c-4a36-8436-6a6c42d2a713",
   "metadata": {},
   "outputs": [],
   "source": []
  }
 ],
 "metadata": {
  "kernelspec": {
   "display_name": "Python 3 (ipykernel)",
   "language": "python",
   "name": "python3"
  },
  "language_info": {
   "codemirror_mode": {
    "name": "ipython",
    "version": 3
   },
   "file_extension": ".py",
   "mimetype": "text/x-python",
   "name": "python",
   "nbconvert_exporter": "python",
   "pygments_lexer": "ipython3",
   "version": "3.9.18"
  }
 },
 "nbformat": 4,
 "nbformat_minor": 5
}
