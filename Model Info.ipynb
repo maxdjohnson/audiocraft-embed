{
 "cells": [
  {
   "cell_type": "code",
   "execution_count": 1,
   "id": "c4274503-6873-4722-921c-5d8042d070f1",
   "metadata": {
    "tags": []
   },
   "outputs": [
    {
     "name": "stderr",
     "output_type": "stream",
     "text": [
      "objc[56374]: Class AVFFrameReceiver is implemented in both /Users/maxj/miniconda3/envs/audiocraft/lib/libavdevice.58.8.100.dylib (0x10fdd4798) and /Users/maxj/miniconda3/envs/audiocraft/lib/python3.9/site-packages/av/.dylibs/libavdevice.59.7.100.dylib (0x11f818778). One of the two will be used. Which one is undefined.\n",
      "objc[56374]: Class AVFAudioReceiver is implemented in both /Users/maxj/miniconda3/envs/audiocraft/lib/libavdevice.58.8.100.dylib (0x10fdd47e8) and /Users/maxj/miniconda3/envs/audiocraft/lib/python3.9/site-packages/av/.dylibs/libavdevice.59.7.100.dylib (0x11f8187c8). One of the two will be used. Which one is undefined.\n"
     ]
    }
   ],
   "source": [
    "import pickle\n",
    "import torch\n",
    "import torchaudio\n",
    "import time\n",
    "from audiocraft.models import MusicGen\n",
    "from audiocraft.data.audio import audio_write\n",
    "from audiocraft.data.audio_utils import convert_audio\n",
    "from audiocraft.modules.conditioners import ConditioningAttributes"
   ]
  },
  {
   "cell_type": "code",
   "execution_count": 2,
   "id": "c3b3cd88-c510-4587-aec9-557db18cac8a",
   "metadata": {
    "tags": []
   },
   "outputs": [
    {
     "name": "stderr",
     "output_type": "stream",
     "text": [
      "/Users/maxj/miniconda3/envs/audiocraft/lib/python3.9/site-packages/torch/nn/utils/weight_norm.py:30: UserWarning: torch.nn.utils.weight_norm is deprecated in favor of torch.nn.utils.parametrizations.weight_norm.\n",
      "  warnings.warn(\"torch.nn.utils.weight_norm is deprecated in favor of torch.nn.utils.parametrizations.weight_norm.\")\n"
     ]
    }
   ],
   "source": [
    "model = MusicGen.get_pretrained('facebook/musicgen-medium')"
   ]
  },
  {
   "cell_type": "code",
   "execution_count": 4,
   "id": "4099fde5-f4c1-4cb2-922f-2ea5885ecadb",
   "metadata": {
    "tags": []
   },
   "outputs": [
    {
     "data": {
      "text/plain": [
       "LMModel(\n",
       "  (cfg_dropout): ClassifierFreeGuidanceDropout(p=0.3)\n",
       "  (att_dropout): AttributeDropout({})\n",
       "  (condition_provider): ConditioningProvider(\n",
       "    (conditioners): ModuleDict(\n",
       "      (description): T5Conditioner(\n",
       "        (output_proj): Linear(in_features=768, out_features=1536, bias=True)\n",
       "      )\n",
       "    )\n",
       "  )\n",
       "  (fuser): ConditionFuser()\n",
       "  (emb): ModuleList(\n",
       "    (0-3): 4 x ScaledEmbedding(2049, 1536)\n",
       "  )\n",
       "  (transformer): StreamingTransformer(\n",
       "    (layers): ModuleList(\n",
       "      (0-47): 48 x StreamingTransformerLayer(\n",
       "        (self_attn): StreamingMultiheadAttention(\n",
       "          (out_proj): Linear(in_features=1536, out_features=1536, bias=False)\n",
       "        )\n",
       "        (linear1): Linear(in_features=1536, out_features=6144, bias=False)\n",
       "        (dropout): Dropout(p=0.0, inplace=False)\n",
       "        (linear2): Linear(in_features=6144, out_features=1536, bias=False)\n",
       "        (norm1): LayerNorm((1536,), eps=1e-05, elementwise_affine=True)\n",
       "        (norm2): LayerNorm((1536,), eps=1e-05, elementwise_affine=True)\n",
       "        (dropout1): Dropout(p=0.0, inplace=False)\n",
       "        (dropout2): Dropout(p=0.0, inplace=False)\n",
       "        (layer_scale_1): Identity()\n",
       "        (layer_scale_2): Identity()\n",
       "        (cross_attention): StreamingMultiheadAttention(\n",
       "          (out_proj): Linear(in_features=1536, out_features=1536, bias=False)\n",
       "        )\n",
       "        (dropout_cross): Dropout(p=0.0, inplace=False)\n",
       "        (norm_cross): LayerNorm((1536,), eps=1e-05, elementwise_affine=True)\n",
       "        (layer_scale_cross): Identity()\n",
       "      )\n",
       "    )\n",
       "  )\n",
       "  (out_norm): LayerNorm((1536,), eps=1e-05, elementwise_affine=True)\n",
       "  (linears): ModuleList(\n",
       "    (0-3): 4 x Linear(in_features=1536, out_features=2048, bias=False)\n",
       "  )\n",
       ")"
      ]
     },
     "execution_count": 4,
     "metadata": {},
     "output_type": "execute_result"
    }
   ],
   "source": [
    "model.lm"
   ]
  },
  {
   "cell_type": "code",
   "execution_count": 5,
   "id": "b76eaebe-42e2-4045-b867-3a861a5294de",
   "metadata": {
    "tags": []
   },
   "outputs": [
    {
     "data": {
      "text/plain": [
       "EncodecModel(\n",
       "  (encoder): SEANetEncoder(\n",
       "    (model): Sequential(\n",
       "      (0): StreamableConv1d(\n",
       "        (conv): NormConv1d(\n",
       "          (conv): Conv1d(1, 64, kernel_size=(7,), stride=(1,))\n",
       "          (norm): Identity()\n",
       "        )\n",
       "      )\n",
       "      (1): SEANetResnetBlock(\n",
       "        (block): Sequential(\n",
       "          (0): ELU(alpha=1.0)\n",
       "          (1): StreamableConv1d(\n",
       "            (conv): NormConv1d(\n",
       "              (conv): Conv1d(64, 32, kernel_size=(3,), stride=(1,))\n",
       "              (norm): Identity()\n",
       "            )\n",
       "          )\n",
       "          (2): ELU(alpha=1.0)\n",
       "          (3): StreamableConv1d(\n",
       "            (conv): NormConv1d(\n",
       "              (conv): Conv1d(32, 64, kernel_size=(1,), stride=(1,))\n",
       "              (norm): Identity()\n",
       "            )\n",
       "          )\n",
       "        )\n",
       "        (shortcut): Identity()\n",
       "      )\n",
       "      (2): ELU(alpha=1.0)\n",
       "      (3): StreamableConv1d(\n",
       "        (conv): NormConv1d(\n",
       "          (conv): Conv1d(64, 128, kernel_size=(8,), stride=(4,))\n",
       "          (norm): Identity()\n",
       "        )\n",
       "      )\n",
       "      (4): SEANetResnetBlock(\n",
       "        (block): Sequential(\n",
       "          (0): ELU(alpha=1.0)\n",
       "          (1): StreamableConv1d(\n",
       "            (conv): NormConv1d(\n",
       "              (conv): Conv1d(128, 64, kernel_size=(3,), stride=(1,))\n",
       "              (norm): Identity()\n",
       "            )\n",
       "          )\n",
       "          (2): ELU(alpha=1.0)\n",
       "          (3): StreamableConv1d(\n",
       "            (conv): NormConv1d(\n",
       "              (conv): Conv1d(64, 128, kernel_size=(1,), stride=(1,))\n",
       "              (norm): Identity()\n",
       "            )\n",
       "          )\n",
       "        )\n",
       "        (shortcut): Identity()\n",
       "      )\n",
       "      (5): ELU(alpha=1.0)\n",
       "      (6): StreamableConv1d(\n",
       "        (conv): NormConv1d(\n",
       "          (conv): Conv1d(128, 256, kernel_size=(8,), stride=(4,))\n",
       "          (norm): Identity()\n",
       "        )\n",
       "      )\n",
       "      (7): SEANetResnetBlock(\n",
       "        (block): Sequential(\n",
       "          (0): ELU(alpha=1.0)\n",
       "          (1): StreamableConv1d(\n",
       "            (conv): NormConv1d(\n",
       "              (conv): Conv1d(256, 128, kernel_size=(3,), stride=(1,))\n",
       "              (norm): Identity()\n",
       "            )\n",
       "          )\n",
       "          (2): ELU(alpha=1.0)\n",
       "          (3): StreamableConv1d(\n",
       "            (conv): NormConv1d(\n",
       "              (conv): Conv1d(128, 256, kernel_size=(1,), stride=(1,))\n",
       "              (norm): Identity()\n",
       "            )\n",
       "          )\n",
       "        )\n",
       "        (shortcut): Identity()\n",
       "      )\n",
       "      (8): ELU(alpha=1.0)\n",
       "      (9): StreamableConv1d(\n",
       "        (conv): NormConv1d(\n",
       "          (conv): Conv1d(256, 512, kernel_size=(10,), stride=(5,))\n",
       "          (norm): Identity()\n",
       "        )\n",
       "      )\n",
       "      (10): SEANetResnetBlock(\n",
       "        (block): Sequential(\n",
       "          (0): ELU(alpha=1.0)\n",
       "          (1): StreamableConv1d(\n",
       "            (conv): NormConv1d(\n",
       "              (conv): Conv1d(512, 256, kernel_size=(3,), stride=(1,))\n",
       "              (norm): Identity()\n",
       "            )\n",
       "          )\n",
       "          (2): ELU(alpha=1.0)\n",
       "          (3): StreamableConv1d(\n",
       "            (conv): NormConv1d(\n",
       "              (conv): Conv1d(256, 512, kernel_size=(1,), stride=(1,))\n",
       "              (norm): Identity()\n",
       "            )\n",
       "          )\n",
       "        )\n",
       "        (shortcut): Identity()\n",
       "      )\n",
       "      (11): ELU(alpha=1.0)\n",
       "      (12): StreamableConv1d(\n",
       "        (conv): NormConv1d(\n",
       "          (conv): Conv1d(512, 1024, kernel_size=(16,), stride=(8,))\n",
       "          (norm): Identity()\n",
       "        )\n",
       "      )\n",
       "      (13): StreamableLSTM(\n",
       "        (lstm): LSTM(1024, 1024, num_layers=2)\n",
       "      )\n",
       "      (14): ELU(alpha=1.0)\n",
       "      (15): StreamableConv1d(\n",
       "        (conv): NormConv1d(\n",
       "          (conv): Conv1d(1024, 128, kernel_size=(7,), stride=(1,))\n",
       "          (norm): Identity()\n",
       "        )\n",
       "      )\n",
       "    )\n",
       "  )\n",
       "  (decoder): SEANetDecoder(\n",
       "    (model): Sequential(\n",
       "      (0): StreamableConv1d(\n",
       "        (conv): NormConv1d(\n",
       "          (conv): Conv1d(128, 1024, kernel_size=(7,), stride=(1,))\n",
       "          (norm): Identity()\n",
       "        )\n",
       "      )\n",
       "      (1): StreamableLSTM(\n",
       "        (lstm): LSTM(1024, 1024, num_layers=2)\n",
       "      )\n",
       "      (2): ELU(alpha=1.0)\n",
       "      (3): StreamableConvTranspose1d(\n",
       "        (convtr): NormConvTranspose1d(\n",
       "          (convtr): ConvTranspose1d(1024, 512, kernel_size=(16,), stride=(8,))\n",
       "          (norm): Identity()\n",
       "        )\n",
       "      )\n",
       "      (4): SEANetResnetBlock(\n",
       "        (block): Sequential(\n",
       "          (0): ELU(alpha=1.0)\n",
       "          (1): StreamableConv1d(\n",
       "            (conv): NormConv1d(\n",
       "              (conv): Conv1d(512, 256, kernel_size=(3,), stride=(1,))\n",
       "              (norm): Identity()\n",
       "            )\n",
       "          )\n",
       "          (2): ELU(alpha=1.0)\n",
       "          (3): StreamableConv1d(\n",
       "            (conv): NormConv1d(\n",
       "              (conv): Conv1d(256, 512, kernel_size=(1,), stride=(1,))\n",
       "              (norm): Identity()\n",
       "            )\n",
       "          )\n",
       "        )\n",
       "        (shortcut): Identity()\n",
       "      )\n",
       "      (5): ELU(alpha=1.0)\n",
       "      (6): StreamableConvTranspose1d(\n",
       "        (convtr): NormConvTranspose1d(\n",
       "          (convtr): ConvTranspose1d(512, 256, kernel_size=(10,), stride=(5,))\n",
       "          (norm): Identity()\n",
       "        )\n",
       "      )\n",
       "      (7): SEANetResnetBlock(\n",
       "        (block): Sequential(\n",
       "          (0): ELU(alpha=1.0)\n",
       "          (1): StreamableConv1d(\n",
       "            (conv): NormConv1d(\n",
       "              (conv): Conv1d(256, 128, kernel_size=(3,), stride=(1,))\n",
       "              (norm): Identity()\n",
       "            )\n",
       "          )\n",
       "          (2): ELU(alpha=1.0)\n",
       "          (3): StreamableConv1d(\n",
       "            (conv): NormConv1d(\n",
       "              (conv): Conv1d(128, 256, kernel_size=(1,), stride=(1,))\n",
       "              (norm): Identity()\n",
       "            )\n",
       "          )\n",
       "        )\n",
       "        (shortcut): Identity()\n",
       "      )\n",
       "      (8): ELU(alpha=1.0)\n",
       "      (9): StreamableConvTranspose1d(\n",
       "        (convtr): NormConvTranspose1d(\n",
       "          (convtr): ConvTranspose1d(256, 128, kernel_size=(8,), stride=(4,))\n",
       "          (norm): Identity()\n",
       "        )\n",
       "      )\n",
       "      (10): SEANetResnetBlock(\n",
       "        (block): Sequential(\n",
       "          (0): ELU(alpha=1.0)\n",
       "          (1): StreamableConv1d(\n",
       "            (conv): NormConv1d(\n",
       "              (conv): Conv1d(128, 64, kernel_size=(3,), stride=(1,))\n",
       "              (norm): Identity()\n",
       "            )\n",
       "          )\n",
       "          (2): ELU(alpha=1.0)\n",
       "          (3): StreamableConv1d(\n",
       "            (conv): NormConv1d(\n",
       "              (conv): Conv1d(64, 128, kernel_size=(1,), stride=(1,))\n",
       "              (norm): Identity()\n",
       "            )\n",
       "          )\n",
       "        )\n",
       "        (shortcut): Identity()\n",
       "      )\n",
       "      (11): ELU(alpha=1.0)\n",
       "      (12): StreamableConvTranspose1d(\n",
       "        (convtr): NormConvTranspose1d(\n",
       "          (convtr): ConvTranspose1d(128, 64, kernel_size=(8,), stride=(4,))\n",
       "          (norm): Identity()\n",
       "        )\n",
       "      )\n",
       "      (13): SEANetResnetBlock(\n",
       "        (block): Sequential(\n",
       "          (0): ELU(alpha=1.0)\n",
       "          (1): StreamableConv1d(\n",
       "            (conv): NormConv1d(\n",
       "              (conv): Conv1d(64, 32, kernel_size=(3,), stride=(1,))\n",
       "              (norm): Identity()\n",
       "            )\n",
       "          )\n",
       "          (2): ELU(alpha=1.0)\n",
       "          (3): StreamableConv1d(\n",
       "            (conv): NormConv1d(\n",
       "              (conv): Conv1d(32, 64, kernel_size=(1,), stride=(1,))\n",
       "              (norm): Identity()\n",
       "            )\n",
       "          )\n",
       "        )\n",
       "        (shortcut): Identity()\n",
       "      )\n",
       "      (14): ELU(alpha=1.0)\n",
       "      (15): StreamableConv1d(\n",
       "        (conv): NormConv1d(\n",
       "          (conv): Conv1d(64, 1, kernel_size=(7,), stride=(1,))\n",
       "          (norm): Identity()\n",
       "        )\n",
       "      )\n",
       "    )\n",
       "  )\n",
       "  (quantizer): ResidualVectorQuantizer(\n",
       "    (vq): ResidualVectorQuantization(\n",
       "      (layers): ModuleList(\n",
       "        (0-3): 4 x VectorQuantization(\n",
       "          (project_in): Identity()\n",
       "          (project_out): Identity()\n",
       "          (_codebook): EuclideanCodebook()\n",
       "        )\n",
       "      )\n",
       "    )\n",
       "  )\n",
       ")"
      ]
     },
     "execution_count": 5,
     "metadata": {},
     "output_type": "execute_result"
    }
   ],
   "source": [
    "model.compression_model"
   ]
  },
  {
   "cell_type": "code",
   "execution_count": 6,
   "id": "ab8398a2-ed73-4683-b2c1-857d511b9ecc",
   "metadata": {
    "tags": []
   },
   "outputs": [],
   "source": [
    "def compute_file_embedding(filename):\n",
    "    return _embed_codes(filename, _load_input(filename))\n",
    "\n",
    "def _load_input(filename):\n",
    "    t1 = time.perf_counter()\n",
    "    wav, sr = torchaudio.load(filename)\n",
    "    duration = wav.shape[1] / sr\n",
    "    if duration > 25 * 60:\n",
    "        raise ValueError(f\"track is too long: {duration}s\")\n",
    "    wav = convert_audio(wav, sr, model.sample_rate, model.audio_channels)\n",
    "    wav = wav.unsqueeze(0)\n",
    "    t2 = time.perf_counter()\n",
    "    print(filename, \"load\", t2 - t1)\n",
    "    with torch.no_grad():\n",
    "        encoded, _ = model.compression_model.encode(wav)\n",
    "    t3 = time.perf_counter()\n",
    "    print(filename, \"encode\", t3-t2)\n",
    "    return encoded\n",
    "    \n",
    "def _embed_codes(filename, encoded):\n",
    "    t1 = time.perf_counter()\n",
    "    context_limit = model.max_duration * model.frame_rate - 1\n",
    "    emb = model.lm.compute_sequence_embedding(encoded[0], context_limit)\n",
    "    t2 = time.perf_counter()\n",
    "    print(filename, \"embed\", t2-t1)\n",
    "    return emb"
   ]
  },
  {
   "cell_type": "code",
   "execution_count": 8,
   "id": "636fe7f6-72e2-426a-bb87-50894fb5de08",
   "metadata": {
    "tags": []
   },
   "outputs": [
    {
     "name": "stdout",
     "output_type": "stream",
     "text": [
      "/Users/maxj/Music/Rips/Spotify/AIFF/2fox - We Are - 6Lxi9O5CWRgjrqvWdbn2lT.aiff load 0.24382141699999238\n",
      "/Users/maxj/Music/Rips/Spotify/AIFF/2fox - We Are - 6Lxi9O5CWRgjrqvWdbn2lT.aiff encode 20.495131500000014\n"
     ]
    }
   ],
   "source": [
    "toks = _load_input(\"/Users/maxj/Music/Rips/Spotify/AIFF/2fox - We Are - 6Lxi9O5CWRgjrqvWdbn2lT.aiff\")"
   ]
  },
  {
   "cell_type": "code",
   "execution_count": 13,
   "id": "aabe5b6a-c12b-4c6c-bf19-a44b3b163037",
   "metadata": {
    "tags": []
   },
   "outputs": [
    {
     "data": {
      "text/plain": [
       "tensor([[[1077, 1273, 1607,  ...,   83,   83,   83],\n",
       "         [ 845, 1642,   21,  ..., 2044, 2044, 2044],\n",
       "         [1872,  373,  650,  ..., 2019, 2019, 2019],\n",
       "         [1518, 1696, 1284,  ..., 1770, 1770, 1770]]])"
      ]
     },
     "execution_count": 13,
     "metadata": {},
     "output_type": "execute_result"
    }
   ],
   "source": [
    "toks"
   ]
  },
  {
   "cell_type": "code",
   "execution_count": 14,
   "id": "46fcfd18-28e7-45dd-9fb0-1c9509a410a9",
   "metadata": {
    "tags": []
   },
   "outputs": [
    {
     "data": {
      "text/plain": [
       "tensor(2047)"
      ]
     },
     "execution_count": 14,
     "metadata": {},
     "output_type": "execute_result"
    }
   ],
   "source": [
    "toks.max()"
   ]
  },
  {
   "cell_type": "code",
   "execution_count": null,
   "id": "fd14a6fd-e609-40a0-bc2a-c8de618c5798",
   "metadata": {},
   "outputs": [],
   "source": []
  }
 ],
 "metadata": {
  "kernelspec": {
   "display_name": "Python 3 (ipykernel)",
   "language": "python",
   "name": "python3"
  },
  "language_info": {
   "codemirror_mode": {
    "name": "ipython",
    "version": 3
   },
   "file_extension": ".py",
   "mimetype": "text/x-python",
   "name": "python",
   "nbconvert_exporter": "python",
   "pygments_lexer": "ipython3",
   "version": "3.9.18"
  }
 },
 "nbformat": 4,
 "nbformat_minor": 5
}
