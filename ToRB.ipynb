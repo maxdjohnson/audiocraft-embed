{
 "cells": [
  {
   "cell_type": "code",
   "execution_count": 1,
   "id": "c8646451-b43a-4500-8d99-b52e9fc828c8",
   "metadata": {
    "tags": []
   },
   "outputs": [],
   "source": [
    "import psycopg2\n",
    "import torch\n",
    "import pickle\n",
    "import sqlite3\n",
    "import pandas as pd\n",
    "import numpy as np"
   ]
  },
  {
   "cell_type": "markdown",
   "id": "7a11790d-e949-46a0-b1c4-6a540226bd97",
   "metadata": {},
   "source": [
    "Tables\n",
    "\n",
    "```sql\n",
    "CREATE TABLE `djmdRecommendLike` (\n",
    "  `ID` VARCHAR(255) PRIMARY KEY,  -- random uuid\n",
    "  `ContentID1` VARCHAR(255) DEFAULT NULL,  -- song id 1\n",
    "  `ContentID2` VARCHAR(255) DEFAULT NULL,  -- song id 2\n",
    "  `LikeRate` INTEGER DEFAULT NULL,  -- NULL\n",
    "  `DataCreatedH` INTEGER DEFAULT NULL, -- I think these fields are uint64 ms timestamp in 2 ints\n",
    "  `DataCreatedL` INTEGER DEFAULT NULL, \n",
    "  `UUID` VARCHAR(255) DEFAULT NULL,  -- random uuid (a differnt one)\n",
    "  `rb_data_status` INTEGER DEFAULT 0,  -- all 0s\n",
    "  `rb_local_data_status` INTEGER DEFAULT 0, \n",
    "  `rb_local_deleted` TINYINT(1) DEFAULT 0, \n",
    "  `rb_local_synced` TINYINT(1) DEFAULT 0, \n",
    "  `usn` BIGINT DEFAULT NULL,  -- null\n",
    "  `rb_local_usn` BIGINT DEFAULT NULL,  -- localUpdateCount value\n",
    "  `created_at` DATETIME NOT NULL, \n",
    "  `updated_at` DATETIME NOT NULL\n",
    ");\n",
    "-- INSERT INTO agentRegistry VALUES('localUpdateCount',NULL,NULL,692204,NULL,NULL,NULL,NULL,NULL,NULL,NULL,'2022-05-20 05:28:00.478 +00:00','2022-05-20 05:28:00.478 +00:00');\n",
    "CREATE TABLE `agentRegistry` (\n",
    "  `registry_id` VARCHAR(255) PRIMARY KEY, \n",
    "  `id_1` VARCHAR(255) DEFAULT NULL, \n",
    "  `id_2` VARCHAR(255) DEFAULT NULL, \n",
    "  `int_1` BIGINT DEFAULT NULL, \n",
    "  `int_2` BIGINT DEFAULT NULL, \n",
    "  `str_1` VARCHAR(255) DEFAULT NULL, \n",
    "  `str_2` VARCHAR(255) DEFAULT NULL, \n",
    "  `date_1` DATETIME DEFAULT NULL, \n",
    "  `date_2` DATETIME DEFAULT NULL, \n",
    "  `text_1` TEXT DEFAULT NULL, \n",
    "  `text_2` TEXT DEFAULT NULL, \n",
    "  `created_at` DATETIME NOT NULL, \n",
    "  `updated_at` DATETIME NOT NULL\n",
    ");\n",
    "```"
   ]
  },
  {
   "cell_type": "code",
   "execution_count": 3,
   "id": "4ccf01f8-3f29-4433-9147-a1cae050a56b",
   "metadata": {
    "tags": []
   },
   "outputs": [],
   "source": [
    "def connect():\n",
    "    return psycopg2.connect(database=\"music_embeddings\",\n",
    "                        host=\"localhost\",\n",
    "                        user=\"maxj\",\n",
    "                        password=\"\",\n",
    "                        port=\"5432\")\n"
   ]
  },
  {
   "cell_type": "code",
   "execution_count": 4,
   "id": "1698cef3-6842-425e-9956-9140b73a3571",
   "metadata": {
    "tags": []
   },
   "outputs": [],
   "source": [
    "def get(path):\n",
    "    conn = connect()\n",
    "    c = conn.cursor()\n",
    "    c.execute('select id, bpm, embedding_musicgen_medium from tracks where path=%s limit 1', (path,))\n",
    "    id, bpm, emb = c.fetchone()\n",
    "    c.close()\n",
    "    conn.close()\n",
    "    return id, bpm, emb\n"
   ]
  },
  {
   "cell_type": "code",
   "execution_count": 5,
   "id": "3d9e6bf0-d900-4550-b115-4e93a3b40732",
   "metadata": {
    "tags": []
   },
   "outputs": [],
   "source": [
    "def sim(id, bpm, emb, limit=5):\n",
    "    conn = connect()\n",
    "    c = conn.cursor()\n",
    "    c.execute(f'''\n",
    "select \n",
    "  id, \n",
    "  path, \n",
    "  artist, \n",
    "  title, \n",
    "  key,\n",
    "  bpm / 100,\n",
    "  (1 - (embedding_musicgen_medium <=> %s)) as cosine_sim \n",
    "from \n",
    "  tracks \n",
    "where \n",
    "  id != %s \n",
    "  and embedding_musicgen_medium is not null \n",
    "  and (\n",
    "    bpm >= 0.92 * %s and bpm <= 1.08 * %s \n",
    "    or bpm >= 1.84 * %s and bpm <= 2.16 * %s \n",
    "    or bpm >= 0.46 * %s and bpm <= 0.54 * %s\n",
    "  )\n",
    "order by \n",
    "  cosine_sim desc \n",
    "limit \n",
    "  {limit}''', (emb, id, bpm, bpm, bpm, bpm, bpm, bpm))\n",
    "    # c.execute('select id, path, artist, title from tracks where id != %s order by embedding_musicgen_medium <=> %s limit 5', (id, emb))\n",
    "    rows = c.fetchall()\n",
    "    c.close()\n",
    "    conn.close()\n",
    "    return pd.DataFrame.from_records(rows, columns=[\"id\", \"path\", \"artist\", \"title\", \"key\", \"bpm\", \"cosine_sim\"])"
   ]
  },
  {
   "cell_type": "code",
   "execution_count": 6,
   "id": "16727edb-0295-49bc-9397-90c0bdfd54bd",
   "metadata": {
    "tags": []
   },
   "outputs": [],
   "source": [
    "def get_paths():\n",
    "    conn = connect()\n",
    "    c = conn.cursor()\n",
    "    c.execute('select path from tracks where embedding_musicgen_medium is not null and bpm > 0')\n",
    "    paths = c.fetchall()\n",
    "    c.close()\n",
    "    conn.close()\n",
    "    return paths\n",
    "\n",
    "paths = get_paths()"
   ]
  },
  {
   "cell_type": "code",
   "execution_count": 7,
   "id": "5b4141e4-a705-4654-9573-3672911d2995",
   "metadata": {
    "tags": []
   },
   "outputs": [],
   "source": [
    "relateds = set() # (id1, id2)\n",
    "\n",
    "for path in paths:\n",
    "    id, bpm, emb = get(path)\n",
    "    ids = sim(id, bpm, emb, 6)['id']\n",
    "    relateds.update((tuple(sorted([id, i])) for i in ids))"
   ]
  },
  {
   "cell_type": "code",
   "execution_count": 8,
   "id": "d07abcdc-119d-4645-a07d-d7106e6e7669",
   "metadata": {
    "tags": []
   },
   "outputs": [],
   "source": [
    "import uuid"
   ]
  },
  {
   "cell_type": "code",
   "execution_count": 9,
   "id": "85741a3f-b51f-41d6-a4f2-cd6cdeb859f2",
   "metadata": {
    "tags": []
   },
   "outputs": [],
   "source": [
    "relateds = sorted(relateds)\n",
    "\n",
    "lines = [\n",
    "    \"PRAGMA KEY='402fd482c38817c35ffa8ffb8c7d93143b749e7d315df7a81732a1ff43608497';\",\n",
    "    \"DELETE FROM djmdRecommendLike;\"\n",
    "]\n",
    "for (id1, id2) in relateds:\n",
    "    lines += [f\"INSERT INTO djmdRecommendLike (ID, ContentID1, ContentID2, created_at, updated_at) VALUES ('{uuid.uuid4()}', {id1}, {id2}, '2023-10-24 04:30:03.956 +00:00', '2023-10-24 04:30:03.956 +00:00');\"]\n",
    "with open('pop.sql', 'w') as f:\n",
    "    for l in lines:\n",
    "        f.write(l + '\\n')"
   ]
  },
  {
   "cell_type": "code",
   "execution_count": 10,
   "id": "9c9464a6-0e24-4ef2-9c77-59273c9993fd",
   "metadata": {
    "tags": []
   },
   "outputs": [
    {
     "name": "stdout",
     "output_type": "stream",
     "text": [
      "ok\n"
     ]
    },
    {
     "data": {
      "text/plain": [
       "CompletedProcess(args=['sqlcipher', '-init', 'pop.sql', '/Users/maxj/Library/Pioneer/rekordbox/master.db', '.quit'], returncode=0)"
      ]
     },
     "execution_count": 10,
     "metadata": {},
     "output_type": "execute_result"
    }
   ],
   "source": [
    "import subprocess\n",
    "\n",
    "def is_app_running(app_name):\n",
    "    try:\n",
    "        # Run the 'pgrep' command to search for the running process\n",
    "        result = subprocess.run(['pgrep', app_name], stdout=subprocess.PIPE, stderr=subprocess.PIPE)\n",
    "        \n",
    "        # If the return code is 0, the app is running\n",
    "        return result.returncode == 0\n",
    "    except Exception as e:\n",
    "        print(f\"An error occurred: {e}\")\n",
    "        return False\n",
    "\n",
    "# Example usage\n",
    "if is_app_running('rekordbox'):\n",
    "    raise ValueError(\"close rekordbox\")\n",
    "\n",
    "res = subprocess.run(['sqlcipher', '-init', 'pop.sql', '/Users/maxj/Library/Pioneer/rekordbox/master.db', '.quit'], check=True)\n",
    "res"
   ]
  },
  {
   "cell_type": "code",
   "execution_count": null,
   "id": "f8caf8b3-4ded-4613-a260-188468761e5d",
   "metadata": {},
   "outputs": [],
   "source": []
  }
 ],
 "metadata": {
  "kernelspec": {
   "display_name": "Python 3 (ipykernel)",
   "language": "python",
   "name": "python3"
  },
  "language_info": {
   "codemirror_mode": {
    "name": "ipython",
    "version": 3
   },
   "file_extension": ".py",
   "mimetype": "text/x-python",
   "name": "python",
   "nbconvert_exporter": "python",
   "pygments_lexer": "ipython3",
   "version": "3.9.18"
  }
 },
 "nbformat": 4,
 "nbformat_minor": 5
}
