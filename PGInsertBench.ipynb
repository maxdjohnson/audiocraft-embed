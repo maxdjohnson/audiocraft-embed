{
 "cells": [
  {
   "cell_type": "code",
   "execution_count": 1,
   "id": "ac8da931-0f28-4184-b0b6-83716d77e104",
   "metadata": {
    "tags": []
   },
   "outputs": [],
   "source": [
    "import psycopg2\n",
    "import torch\n",
    "import pickle\n",
    "import sqlite3\n",
    "import pandas as pd\n",
    "import numpy as np"
   ]
  },
  {
   "cell_type": "code",
   "execution_count": 3,
   "id": "b6d9cdf0-030f-42e3-88ac-b92375754039",
   "metadata": {
    "tags": []
   },
   "outputs": [],
   "source": [
    "def connect():\n",
    "    return psycopg2.connect(database=\"test_insert\",\n",
    "                        host=\"localhost\",\n",
    "                        user=\"maxj\",\n",
    "                        password=\"\",\n",
    "                        port=\"5432\")\n"
   ]
  },
  {
   "cell_type": "code",
   "execution_count": 17,
   "id": "18a052e6-13aa-41ab-b85c-e7c12e76215f",
   "metadata": {
    "tags": []
   },
   "outputs": [],
   "source": [
    "def reset_qq():\n",
    "    conn = connect()\n",
    "    c = conn.cursor()\n",
    "    c.execute(\"drop table if exists qq;\")\n",
    "    c.execute(\"\"\"\n",
    "    CREATE TABLE qq (\n",
    "      id BIGINT PRIMARY KEY,\n",
    "      payload JSONB NOT NULL,\n",
    "      customer_id BIGINT,\n",
    "      deliver_after BIGINT,\n",
    "      attempts INT,\n",
    "      expires_after BIGINT\n",
    "    );\n",
    "    CREATE INDEX qq_deliver ON qq (deliver_after);\n",
    "    \"\"\")\n",
    "    conn.commit()\n",
    "    c.close()\n",
    "    conn.close()\n",
    "\n",
    "reset_qq()"
   ]
  },
  {
   "cell_type": "code",
   "execution_count": 18,
   "id": "9eac714d-d3ed-4361-92cc-6cb760a11e34",
   "metadata": {
    "tags": []
   },
   "outputs": [
    {
     "data": {
      "text/plain": [
       "8484.120188897765"
      ]
     },
     "execution_count": 18,
     "metadata": {},
     "output_type": "execute_result"
    }
   ],
   "source": [
    "import time\n",
    "\n",
    "payload = '''\n",
    "{\n",
    "  \"user_id\": 12345,\n",
    "  \"username\": \"example_user\",\n",
    "  \"email\": \"user@example.com\",\n",
    "  \"age\": 30,\n",
    "  \"is_active\": true,\n",
    "  \"preferences\": {\n",
    "    \"theme\": \"dark\",\n",
    "    \"notifications\": true,\n",
    "    \"language\": \"en\"\n",
    "  },\n",
    "  \"posts\": [\n",
    "    {\n",
    "      \"post_id\": 1,\n",
    "      \"title\": \"First Post\",\n",
    "      \"content\": \"This is the content of the first post.\"\n",
    "    },\n",
    "    {\n",
    "      \"post_id\": 2,\n",
    "      \"title\": \"Second Post\",\n",
    "      \"content\": \"This is the content of the second post.\"\n",
    "    },\n",
    "    {\n",
    "      \"post_id\": 3,\n",
    "      \"title\": \"Third Post\",\n",
    "      \"content\": \"This is the content of the third post.\"\n",
    "    }\n",
    "  ]\n",
    "}\n",
    "'''\n",
    "\n",
    "def bench(n_iters=1000000):\n",
    "    conn = connect()\n",
    "    conn.set_session(autocommit=True)\n",
    "    for i in range(n_iters):\n",
    "        c = conn.cursor()\n",
    "        now = time.time()\n",
    "        deliver_after = round(now * 1000)\n",
    "        expires_after = round(now * 1000) + 1000000\n",
    "        c.execute(\"INSERT INTO qq VALUES (%s, %s, %s, %s, %s, %s)\", (i, payload, 1, deliver_after, 0, expires_after))\n",
    "        c.close()\n",
    "    conn.close()\n",
    "    return n_iters\n",
    "\n",
    "start = time.time()\n",
    "n_iters = bench(100000)\n",
    "end = time.time()\n",
    "duration = end - start\n",
    "rate = n_iters / duration\n",
    "rate"
   ]
  },
  {
   "cell_type": "code",
   "execution_count": null,
   "id": "059f172d-f13b-4cbe-baf3-41e2c883dabe",
   "metadata": {},
   "outputs": [],
   "source": []
  },
  {
   "cell_type": "code",
   "execution_count": null,
   "id": "deb4313d-b79e-4fda-a377-bc831c4524e9",
   "metadata": {},
   "outputs": [],
   "source": []
  }
 ],
 "metadata": {
  "kernelspec": {
   "display_name": "Python 3 (ipykernel)",
   "language": "python",
   "name": "python3"
  },
  "language_info": {
   "codemirror_mode": {
    "name": "ipython",
    "version": 3
   },
   "file_extension": ".py",
   "mimetype": "text/x-python",
   "name": "python",
   "nbconvert_exporter": "python",
   "pygments_lexer": "ipython3",
   "version": "3.9.18"
  }
 },
 "nbformat": 4,
 "nbformat_minor": 5
}
